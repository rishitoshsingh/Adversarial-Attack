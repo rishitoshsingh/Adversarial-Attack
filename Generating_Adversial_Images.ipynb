{
 "cells": [
  {
   "cell_type": "code",
   "execution_count": 1,
   "metadata": {},
   "outputs": [],
   "source": [
    "from NeuralNetwork2 import ANN2\n",
    "import numpy as np\n",
    "from matplotlib import pyplot as plt\n",
    "import pandas as pd\n",
    "import joblib"
   ]
  },
  {
   "cell_type": "code",
   "execution_count": 2,
   "metadata": {},
   "outputs": [],
   "source": [
    "train_data = pd.read_csv('mnist_train.csv',header=None)\n",
    "test_data = pd.read_csv('mnist_test.csv',header=None)\n",
    "train_data = train_data.sample(n=600,random_state=1)\n",
    "test_data = test_data.sample(n=100,random_state=1)"
   ]
  },
  {
   "cell_type": "code",
   "execution_count": 3,
   "metadata": {},
   "outputs": [],
   "source": [
    "X_train = train_data.iloc[:,1:].values / 255\n",
    "y_train = train_data.iloc[:,0].values.reshape(X_train.shape[0],1)\n",
    "X_test = test_data.iloc[:,1:].values / 255\n",
    "y_test = test_data.iloc[:,0].values.reshape(X_test.shape[0],1)"
   ]
  },
  {
   "cell_type": "code",
   "execution_count": 4,
   "metadata": {},
   "outputs": [],
   "source": [
    "lr = np.arange(10)\n",
    "one_hot = []\n",
    "for label in y_train.ravel():\n",
    "    one_hot.append((lr==label).astype(np.int).tolist())\n",
    "y_train = one_hot\n",
    "one_hot = []\n",
    "for label in y_test.ravel():\n",
    "    one_hot.append((lr==label).astype(np.int).tolist())\n",
    "y_test = one_hot"
   ]
  },
  {
   "cell_type": "code",
   "execution_count": 5,
   "metadata": {},
   "outputs": [],
   "source": [
    "model = joblib.load('Trained1Network.model')"
   ]
  },
  {
   "cell_type": "code",
   "execution_count": null,
   "metadata": {},
   "outputs": [],
   "source": [
    "# sample = 80\n",
    "# sample = 25\n",
    "# sample = 30 ## Best one"
   ]
  },
  {
   "cell_type": "code",
   "execution_count": 57,
   "metadata": {},
   "outputs": [
    {
     "name": "stdout",
     "output_type": "stream",
     "text": [
      "Target 0\n",
      "Target [1, 0, 0, 0, 0, 0, 0, 0, 0, 0]\n"
     ]
    },
    {
     "data": {
      "image/png": "[encoded data removed]",
      "text/plain": [
       "<matplotlib.figure.Figure at 0x7fe39e2b3320>"
      ]
     },
     "metadata": {},
     "output_type": "display_data"
    }
   ],
   "source": [
    "sample = 30\n",
    "y_pred = model.predict(X_test[sample].reshape(1,784)).ravel()\n",
    "print(\"Target {}\".format(np.argmax(y_pred)))\n",
    "print(\"Target {}\".format(y_test[sample]))\n",
    "plt.imshow(X_test[sample].reshape(28,28),cmap='gray')\n",
    "plt.show()"
   ]
  },
  {
   "cell_type": "code",
   "execution_count": 58,
   "metadata": {},
   "outputs": [],
   "source": [
    "X_target = X_test[sample].ravel()\n",
    "y_goal = y_test[sample+1]"
   ]
  },
  {
   "cell_type": "code",
   "execution_count": 59,
   "metadata": {},
   "outputs": [
    {
     "data": {
      "image/png": "[encoded data removed]",
      "text/plain": [
       "<matplotlib.figure.Figure at 0x7fe39e2b3198>"
      ]
     },
     "metadata": {},
     "output_type": "display_data"
    },
    {
     "name": "stdout",
     "output_type": "stream",
     "text": [
      "Predicted : 0\n",
      "Adversial Goal : 3\n",
      "Predicted : [8.57677979e-01 1.81109095e-04 2.44609704e-06 1.30335451e-04\n",
      " 4.58702625e-05 3.48882566e-01 1.22257330e-06 1.65732754e-05\n",
      " 9.88119518e-04 1.17630902e-06]\n",
      "Adversial Goal : [0, 0, 0, 1, 0, 0, 0, 0, 0, 0]\n"
     ]
    }
   ],
   "source": [
    "plt.imshow(X_target.reshape(28,28),cmap='gray')\n",
    "plt.show()\n",
    "print('Predicted : {}'.format(np.argmax(y_pred)))\n",
    "print('Adversial Goal : {}'.format(np.argmax(y_goal)))\n",
    "print('Predicted : {}'.format(y_pred))\n",
    "print('Adversial Goal : {}'.format(y_goal))"
   ]
  },
  {
   "cell_type": "code",
   "execution_count": 60,
   "metadata": {
    "scrolled": true
   },
   "outputs": [
    {
     "name": "stdout",
     "output_type": "stream",
     "text": [
      "Epoch ---  0  MSE :  [103.33783062]\n",
      "Epoch ---  100  MSE :  [47.54430911]\n",
      "Epoch ---  200  MSE :  [22.57569867]\n",
      "Epoch ---  300  MSE :  [11.40631109]\n",
      "Epoch ---  400  MSE :  [6.4137009]\n",
      "Epoch ---  500  MSE :  [4.18403433]\n",
      "Epoch ---  600  MSE :  [3.18722385]\n",
      "Epoch ---  700  MSE :  [2.74081986]\n",
      "Epoch ---  800  MSE :  [2.54063297]\n",
      "Epoch ---  900  MSE :  [2.45076985]\n",
      "Epoch ---  1000  MSE :  [2.41039744]\n",
      "Epoch ---  1100  MSE :  [2.39224593]\n",
      "Epoch ---  1200  MSE :  [2.38407901]\n",
      "Epoch ---  1300  MSE :  [2.38040178]\n",
      "Epoch ---  1400  MSE :  [2.37874491]\n",
      "Epoch ---  1500  MSE :  [2.37799794]\n",
      "Epoch ---  1600  MSE :  [2.37766107]\n",
      "Epoch ---  1700  MSE :  [2.37750919]\n",
      "Epoch ---  1800  MSE :  [2.3774408]\n",
      "Epoch ---  1900  MSE :  [2.37741009]\n",
      "Epoch ---  2000  MSE :  [2.37739637]\n",
      "Epoch ---  2100  MSE :  [2.37739029]\n",
      "Epoch ---  2200  MSE :  [2.37738762]\n",
      "Epoch ---  2300  MSE :  [2.37738645]\n",
      "Epoch ---  2400  MSE :  [2.37738594]\n",
      "Epoch ---  2500  MSE :  [2.3773857]\n",
      "Epoch ---  2600  MSE :  [2.37738557]\n",
      "Epoch ---  2700  MSE :  [2.37738547]\n",
      "Epoch ---  2800  MSE :  [2.37738538]\n",
      "Epoch ---  2900  MSE :  [2.37738529]\n",
      "Epoch ---  3000  MSE :  [2.37738521]\n",
      "Epoch ---  3100  MSE :  [2.37738512]\n",
      "Epoch ---  3200  MSE :  [2.37738504]\n",
      "Epoch ---  3300  MSE :  [2.37738496]\n",
      "Epoch ---  3400  MSE :  [2.37738489]\n",
      "Epoch ---  3500  MSE :  [2.37738482]\n",
      "Epoch ---  3600  MSE :  [2.37738476]\n",
      "Epoch ---  3700  MSE :  [2.37738471]\n",
      "Epoch ---  3800  MSE :  [2.37738466]\n",
      "Epoch ---  3900  MSE :  [2.37738462]\n"
     ]
    }
   ],
   "source": [
    "adversial_image = model.get_adversial_image(X_target=X_target,\n",
    "                                            y_goal=y_goal,\n",
    "                                            seed=2,\n",
    "                                            learning_rate=0.01,\n",
    "                                            _lambda=0.4,\n",
    "                                            epochs=4000,\n",
    "                                            print_results=True)"
   ]
  },
  {
   "cell_type": "code",
   "execution_count": 61,
   "metadata": {},
   "outputs": [
    {
     "name": "stdout",
     "output_type": "stream",
     "text": [
      "Last Epoch Error :  [2.37738458]\n"
     ]
    }
   ],
   "source": [
    "print('Last Epoch Error : ', model.adversial_loss[-1])"
   ]
  },
  {
   "cell_type": "code",
   "execution_count": 62,
   "metadata": {},
   "outputs": [
    {
     "data": {
      "image/png": "[encoded data removed]",
      "text/plain": [
       "<matplotlib.figure.Figure at 0x7fe39e2c0860>"
      ]
     },
     "metadata": {},
     "output_type": "display_data"
    }
   ],
   "source": [
    "plt.imshow(adversial_image.reshape(28,28),cmap='gray')\n",
    "plt.show()"
   ]
  },
  {
   "cell_type": "code",
   "execution_count": 63,
   "metadata": {},
   "outputs": [
    {
     "name": "stdout",
     "output_type": "stream",
     "text": [
      "Adversial Prediction 3\n",
      "Actual Prediction [1, 0, 0, 0, 0, 0, 0, 0, 0, 0]\n"
     ]
    },
    {
     "data": {
      "image/png": "[encoded data removed]",
      "text/plain": [
       "<matplotlib.figure.Figure at 0x7fe39d0dd400>"
      ]
     },
     "metadata": {},
     "output_type": "display_data"
    }
   ],
   "source": [
    "y_pred_adversial = model.predict(adversial_image.reshape(1,784)).ravel()\n",
    "print(\"Adversial Prediction {}\".format(np.argmax(y_pred_adversial)))\n",
    "print(\"Actual Prediction {}\".format(y_test[sample]))\n",
    "plt.imshow(adversial_image.reshape(28,28),cmap='gray')\n",
    "plt.show()"
   ]
  },
  {
   "cell_type": "code",
   "execution_count": 65,
   "metadata": {},
   "outputs": [
    {
     "data": {
      "text/plain": [
       "array([0.11, 0.  , 0.  , 0.84, 0.  , 0.04, 0.  , 0.  , 0.  , 0.  ])"
      ]
     },
     "execution_count": 65,
     "metadata": {},
     "output_type": "execute_result"
    }
   ],
   "source": [
    "np.around(y_pred_adversial,decimals=2)"
   ]
  },
  {
   "cell_type": "code",
   "execution_count": 66,
   "metadata": {},
   "outputs": [
    {
     "data": {
      "text/plain": [
       "array([0.86, 0.  , 0.  , 0.  , 0.  , 0.35, 0.  , 0.  , 0.  , 0.  ])"
      ]
     },
     "execution_count": 66,
     "metadata": {},
     "output_type": "execute_result"
    }
   ],
   "source": [
    "np.around(y_pred, decimals=2)"
   ]
  },
  {
   "cell_type": "code",
   "execution_count": 70,
   "metadata": {},
   "outputs": [
    {
     "data": {
      "text/plain": [
       "1.0635813700466146"
      ]
     },
     "execution_count": 70,
     "metadata": {},
     "output_type": "execute_result"
    }
   ],
   "source": [
    "np.max(adversial_image)"
   ]
  }
 ],
 "metadata": {
  "kernelspec": {
   "display_name": "Python 3",
   "language": "python",
   "name": "python3"
  },
  "language_info": {
   "codemirror_mode": {
    "name": "ipython",
    "version": 3
   },
   "file_extension": ".py",
   "mimetype": "text/x-python",
   "name": "python",
   "nbconvert_exporter": "python",
   "pygments_lexer": "ipython3",
   "version": "3.6.6"
  }
 },
 "nbformat": 4,
 "nbformat_minor": 2
}
