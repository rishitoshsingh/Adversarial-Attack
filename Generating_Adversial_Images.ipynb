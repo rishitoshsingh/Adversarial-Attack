{
 "cells": [
  {
   "cell_type": "code",
   "execution_count": 1,
   "metadata": {},
   "outputs": [],
   "source": [
    "from NeuralNetwork2 import ANN2\n",
    "import numpy as np\n",
    "from matplotlib import pyplot as plt\n",
    "import matplotlib.animation as animation\n",
    "import pandas as pd\n",
    "import joblib"
   ]
  },
  {
   "cell_type": "code",
   "execution_count": 179,
   "metadata": {},
   "outputs": [],
   "source": [
    "adversial_images = []"
   ]
  },
  {
   "cell_type": "code",
   "execution_count": 7,
   "metadata": {},
   "outputs": [],
   "source": [
    "train_data = pd.read_csv('train.csv')\n",
    "test_data = pd.read_csv('test.csv')\n",
    "# train_data = train_data.sample(n=600,random_state=1)\n",
    "# test_data = test_data.sample(n=100,random_state=1)"
   ]
  },
  {
   "cell_type": "code",
   "execution_count": 8,
   "metadata": {},
   "outputs": [],
   "source": [
    "X_train = train_data.iloc[:,1:].values / 255\n",
    "y_train = train_data.iloc[:,0].values.reshape(X_train.shape[0],1)\n",
    "X_test = test_data.iloc[:,1:].values / 255\n",
    "y_test = test_data.iloc[:,0].values.reshape(X_test.shape[0],1)"
   ]
  },
  {
   "cell_type": "code",
   "execution_count": 9,
   "metadata": {},
   "outputs": [],
   "source": [
    "lr = np.arange(10)\n",
    "one_hot = []\n",
    "for label in y_train.ravel():\n",
    "    one_hot.append((lr==label).astype(np.int).tolist())\n",
    "y_train = one_hot\n",
    "one_hot = []\n",
    "for label in y_test.ravel():\n",
    "    one_hot.append((lr==label).astype(np.int).tolist())\n",
    "y_test = one_hot"
   ]
  },
  {
   "cell_type": "code",
   "execution_count": 10,
   "metadata": {},
   "outputs": [],
   "source": [
    "model = joblib.load('Trained1Network.model')"
   ]
  },
  {
   "cell_type": "code",
   "execution_count": 11,
   "metadata": {},
   "outputs": [],
   "source": [
    "# sample = 80\n",
    "# sample = 25\n",
    "# sample = 30 ## Best one\n",
    "# sample = 45 ## Best one\n",
    "# sample = 11 ## Best one"
   ]
  },
  {
   "cell_type": "code",
   "execution_count": 212,
   "metadata": {},
   "outputs": [
    {
     "name": "stdout",
     "output_type": "stream",
     "text": [
      "Target 6\n",
      "Target [0, 0, 0, 0, 0, 0, 1, 0, 0, 0]\n"
     ]
    },
    {
     "data": {
      "image/png": "[encoded data removed]",
      "text/plain": [
       "<matplotlib.figure.Figure at 0x7f47dd8b2d68>"
      ]
     },
     "metadata": {},
     "output_type": "display_data"
    }
   ],
   "source": [
    "sample = 25\n",
    "y_pred = model.predict(X_test[sample].reshape(1,784)).ravel()\n",
    "print(\"Target {}\".format(np.argmax(y_pred)))\n",
    "print(\"Target {}\".format(y_test[sample]))\n",
    "plt.imshow(X_test[sample].reshape(28,28),cmap='gray_r')\n",
    "plt.show()"
   ]
  },
  {
   "cell_type": "code",
   "execution_count": 213,
   "metadata": {},
   "outputs": [],
   "source": [
    "X_target = X_test[sample].ravel()\n",
    "y_goal = y_test[sample+1]"
   ]
  },
  {
   "cell_type": "code",
   "execution_count": 214,
   "metadata": {},
   "outputs": [
    {
     "data": {
      "image/png": "[encoded data removed]",
      "text/plain": [
       "<matplotlib.figure.Figure at 0x7f47dd80e0b8>"
      ]
     },
     "metadata": {},
     "output_type": "display_data"
    },
    {
     "name": "stdout",
     "output_type": "stream",
     "text": [
      "Predicted : 6\n",
      "Adversial Goal : 1\n",
      "Predicted : [1.79338775e-05 1.25787575e-04 1.83624006e-03 1.90627299e-07\n",
      " 4.47860815e-02 2.23625715e-04 9.68957656e-01 9.15359700e-08\n",
      " 2.34619401e-05 7.95156198e-04]\n",
      "Adversial Goal : [0, 1, 0, 0, 0, 0, 0, 0, 0, 0]\n"
     ]
    }
   ],
   "source": [
    "plt.imshow(X_target.reshape(28,28),cmap='gray_r')\n",
    "plt.show()\n",
    "print('Predicted : {}'.format(np.argmax(y_pred)))\n",
    "print('Adversial Goal : {}'.format(np.argmax(y_goal)))\n",
    "print('Predicted : {}'.format(y_pred))\n",
    "print('Adversial Goal : {}'.format(y_goal))"
   ]
  },
  {
   "cell_type": "code",
   "execution_count": 215,
   "metadata": {
    "scrolled": true
   },
   "outputs": [
    {
     "name": "stdout",
     "output_type": "stream",
     "text": [
      "Epoch ---  0  MSE :  [105.26643038]\n",
      "Epoch ---  100  MSE :  [2.15455661]\n",
      "Epoch ---  200  MSE :  [2.12391865]\n",
      "Epoch ---  300  MSE :  [2.12390386]\n",
      "Epoch ---  400  MSE :  [2.12390364]\n",
      "Epoch ---  500  MSE :  [2.12390363]\n",
      "Epoch ---  600  MSE :  [2.12390363]\n",
      "Epoch ---  700  MSE :  [2.12390363]\n",
      "Epoch ---  800  MSE :  [2.12390363]\n",
      "Epoch ---  900  MSE :  [2.12390363]\n",
      "Epoch ---  1000  MSE :  [2.12390363]\n",
      "Epoch ---  1100  MSE :  [2.12390363]\n",
      "Epoch ---  1200  MSE :  [2.12390363]\n",
      "Epoch ---  1300  MSE :  [2.12390363]\n",
      "Epoch ---  1400  MSE :  [2.12390363]\n",
      "Epoch ---  1500  MSE :  [2.12390363]\n",
      "Epoch ---  1600  MSE :  [2.12390363]\n",
      "Epoch ---  1700  MSE :  [2.12390363]\n",
      "Epoch ---  1800  MSE :  [2.12390363]\n",
      "Epoch ---  1900  MSE :  [2.12390363]\n"
     ]
    }
   ],
   "source": [
    "adversial_image = model.get_adversial_image(X_target=X_target,\n",
    "                                            y_goal=y_goal,\n",
    "                                            seed=2,\n",
    "                                            learning_rate=0.1,\n",
    "                                            _lambda=0.4,\n",
    "                                            epochs=2000,\n",
    "                                            print_results=True)"
   ]
  },
  {
   "cell_type": "code",
   "execution_count": 216,
   "metadata": {},
   "outputs": [
    {
     "name": "stdout",
     "output_type": "stream",
     "text": [
      "Last Epoch Error :  [2.12390363]\n"
     ]
    }
   ],
   "source": [
    "print('Last Epoch Error : ', model.adversial_loss[-1])"
   ]
  },
  {
   "cell_type": "code",
   "execution_count": 217,
   "metadata": {},
   "outputs": [
    {
     "data": {
      "image/png": "[encoded data removed]",
      "text/plain": [
       "<matplotlib.figure.Figure at 0x7f47dd8b2860>"
      ]
     },
     "metadata": {},
     "output_type": "display_data"
    }
   ],
   "source": [
    "plt.imshow(adversial_image.reshape(28,28),cmap='gray_r')\n",
    "plt.show()"
   ]
  },
  {
   "cell_type": "code",
   "execution_count": 218,
   "metadata": {},
   "outputs": [
    {
     "name": "stdout",
     "output_type": "stream",
     "text": [
      "Adversial Prediction 6\n",
      "Actual Prediction [0, 0, 0, 0, 0, 0, 1, 0, 0, 0]\n"
     ]
    },
    {
     "data": {
      "image/png": "[encoded data removed]",
      "text/plain": [
       "<matplotlib.figure.Figure at 0x7f47dd80c710>"
      ]
     },
     "metadata": {},
     "output_type": "display_data"
    }
   ],
   "source": [
    "y_pred_adversial = model.predict(adversial_image.reshape(1,784)).ravel()\n",
    "print(\"Adversial Prediction {}\".format(np.argmax(y_pred_adversial)))\n",
    "print(\"Actual Prediction {}\".format(y_test[sample]))\n",
    "plt.imshow(adversial_image.reshape(28,28),cmap='gray_r')\n",
    "plt.show()"
   ]
  },
  {
   "cell_type": "code",
   "execution_count": 219,
   "metadata": {},
   "outputs": [
    {
     "name": "stderr",
     "output_type": "stream",
     "text": [
      "/home/rishi/anaconda3/lib/python3.6/site-packages/matplotlib/figure.py:418: UserWarning: matplotlib is currently using a non-GUI backend, so cannot show the figure\n",
      "  \"matplotlib is currently using a non-GUI backend, \"\n"
     ]
    },
    {
     "data": {
      "image/png": "[encoded data removed]",
      "text/plain": [
       "<matplotlib.figure.Figure at 0x7f47ddd63c88>"
      ]
     },
     "metadata": {},
     "output_type": "display_data"
    }
   ],
   "source": [
    "fig, (ax1, ax2) = plt.subplots(1, 2,figsize=(10,10))\n",
    "figsize=(10,3)\n",
    "ax1.imshow(X_target.reshape(28,28),cmap='gray_r')\n",
    "ax1.set_title('Prediction : {}'.format(np.argmax(y_test[sample])))\n",
    "ax2.imshow(adversial_image.reshape(28,28),cmap='gray_r')\n",
    "ax2.set_title('Prediction : {}'.format(np.argmax(y_pred_adversial)))\n",
    "fig.show()"
   ]
  },
  {
   "cell_type": "code",
   "execution_count": 220,
   "metadata": {},
   "outputs": [],
   "source": [
    "image = {'adversial_image':adversial_image,\n",
    "         'actual_image':X_target,\n",
    "         'y_pred_adversial':y_pred_adversial,\n",
    "         'actual_prediction':y_test[sample]}"
   ]
  },
  {
   "cell_type": "code",
   "execution_count": 221,
   "metadata": {},
   "outputs": [],
   "source": [
    "adversial_images.append(image)"
   ]
  },
  {
   "cell_type": "code",
   "execution_count": 222,
   "metadata": {},
   "outputs": [
    {
     "data": {
      "text/plain": [
       "4"
      ]
     },
     "execution_count": 222,
     "metadata": {},
     "output_type": "execute_result"
    }
   ],
   "source": [
    "len(adversial_images)"
   ]
  },
  {
   "cell_type": "code",
   "execution_count": 223,
   "metadata": {},
   "outputs": [],
   "source": [
    "import joblib"
   ]
  },
  {
   "cell_type": "code",
   "execution_count": 224,
   "metadata": {},
   "outputs": [
    {
     "data": {
      "text/plain": [
       "['adversial_images.ik']"
      ]
     },
     "execution_count": 224,
     "metadata": {},
     "output_type": "execute_result"
    }
   ],
   "source": [
    "joblib.dump(adversial_images,'adversial_images.ik')"
   ]
  },
  {
   "cell_type": "code",
   "execution_count": 166,
   "metadata": {},
   "outputs": [
    {
     "data": {
      "text/plain": [
       "array([0.  , 0.  , 0.  , 0.  , 0.1 , 0.  , 0.17, 0.  , 0.  , 0.02])"
      ]
     },
     "execution_count": 166,
     "metadata": {},
     "output_type": "execute_result"
    }
   ],
   "source": [
    "np.around(y_pred_adversial,decimals=2)"
   ]
  },
  {
   "cell_type": "code",
   "execution_count": 167,
   "metadata": {},
   "outputs": [
    {
     "data": {
      "text/plain": [
       "array([0.  , 0.  , 0.  , 0.  , 0.04, 0.  , 0.97, 0.  , 0.  , 0.  ])"
      ]
     },
     "execution_count": 167,
     "metadata": {},
     "output_type": "execute_result"
    }
   ],
   "source": [
    "np.around(y_pred, decimals=2)"
   ]
  },
  {
   "cell_type": "code",
   "execution_count": 18,
   "metadata": {},
   "outputs": [
    {
     "data": {
      "text/plain": [
       "array([0, 1, 2, 3, 4, 5, 6, 7, 8, 9])"
      ]
     },
     "execution_count": 18,
     "metadata": {},
     "output_type": "execute_result"
    }
   ],
   "source": [
    "np.array(range(y_pred.shape[0])) "
   ]
  },
  {
   "cell_type": "code",
   "execution_count": 19,
   "metadata": {},
   "outputs": [
    {
     "data": {
      "image/png": "[encoded data removed]",
      "text/plain": [
       "<matplotlib.figure.Figure at 0x7ff06f19d4e0>"
      ]
     },
     "metadata": {},
     "output_type": "display_data"
    }
   ],
   "source": [
    "width=0.5\n",
    "plt.bar(np.array(range(y_pred.shape[0])) - width/2,y_pred, width=width,label='Actual Prediction')\n",
    "plt.bar(np.array(range(y_pred_adversial.shape[0])) + width/2,y_pred_adversial, width=width,label='Adversial Prediction')\n",
    "plt.show()"
   ]
  },
  {
   "cell_type": "code",
   "execution_count": 18,
   "metadata": {},
   "outputs": [
    {
     "data": {
      "image/png": "[encoded data removed]",
      "text/plain": [
       "<matplotlib.figure.Figure at 0x7fb1f4dfcc88>"
      ]
     },
     "metadata": {},
     "output_type": "display_data"
    }
   ],
   "source": [
    "plt.imshow((adversial_image-X_target).reshape(28,28),cmap='gray')\n",
    "plt.show()"
   ]
  },
  {
   "cell_type": "code",
   "execution_count": null,
   "metadata": {},
   "outputs": [
    {
     "ename": "KeyboardInterrupt",
     "evalue": "",
     "output_type": "error",
     "traceback": [
      "\u001b[0;31m---------------------------------------------------------------------------\u001b[0m",
      "\u001b[0;31mKeyboardInterrupt\u001b[0m                         Traceback (most recent call last)",
      "\u001b[0;32m<ipython-input-19-841c6f58ef8c>\u001b[0m in \u001b[0;36m<module>\u001b[0;34m()\u001b[0m\n\u001b[1;32m      2\u001b[0m \u001b[0mims\u001b[0m \u001b[0;34m=\u001b[0m \u001b[0;34m[\u001b[0m\u001b[0;34m]\u001b[0m\u001b[0;34m\u001b[0m\u001b[0m\n\u001b[1;32m      3\u001b[0m \u001b[0;32mfor\u001b[0m \u001b[0mi\u001b[0m \u001b[0;32min\u001b[0m \u001b[0mrange\u001b[0m\u001b[0;34m(\u001b[0m\u001b[0mlen\u001b[0m\u001b[0;34m(\u001b[0m\u001b[0madversial_images\u001b[0m\u001b[0;34m)\u001b[0m\u001b[0;34m)\u001b[0m\u001b[0;34m:\u001b[0m\u001b[0;34m\u001b[0m\u001b[0m\n\u001b[0;32m----> 4\u001b[0;31m     \u001b[0mim\u001b[0m \u001b[0;34m=\u001b[0m \u001b[0mplt\u001b[0m\u001b[0;34m.\u001b[0m\u001b[0mimshow\u001b[0m\u001b[0;34m(\u001b[0m\u001b[0madversial_images\u001b[0m\u001b[0;34m[\u001b[0m\u001b[0mi\u001b[0m\u001b[0;34m]\u001b[0m\u001b[0;34m.\u001b[0m\u001b[0mreshape\u001b[0m\u001b[0;34m(\u001b[0m\u001b[0;36m28\u001b[0m\u001b[0;34m,\u001b[0m\u001b[0;36m28\u001b[0m\u001b[0;34m)\u001b[0m\u001b[0;34m,\u001b[0m \u001b[0mcmap\u001b[0m\u001b[0;34m=\u001b[0m\u001b[0;34m'gray'\u001b[0m\u001b[0;34m,\u001b[0m \u001b[0manimated\u001b[0m\u001b[0;34m=\u001b[0m\u001b[0;32mTrue\u001b[0m\u001b[0;34m)\u001b[0m\u001b[0;34m\u001b[0m\u001b[0m\n\u001b[0m\u001b[1;32m      5\u001b[0m     \u001b[0mims\u001b[0m\u001b[0;34m.\u001b[0m\u001b[0mappend\u001b[0m\u001b[0;34m(\u001b[0m\u001b[0;34m[\u001b[0m\u001b[0mim\u001b[0m\u001b[0;34m]\u001b[0m\u001b[0;34m)\u001b[0m\u001b[0;34m\u001b[0m\u001b[0m\n\u001b[1;32m      6\u001b[0m \u001b[0;34m\u001b[0m\u001b[0m\n",
      "\u001b[0;32m~/anaconda3/lib/python3.6/site-packages/matplotlib/pyplot.py\u001b[0m in \u001b[0;36mimshow\u001b[0;34m(X, cmap, norm, aspect, interpolation, alpha, vmin, vmax, origin, extent, shape, filternorm, filterrad, imlim, resample, url, hold, data, **kwargs)\u001b[0m\n\u001b[1;32m   3099\u001b[0m                         \u001b[0mfilternorm\u001b[0m\u001b[0;34m=\u001b[0m\u001b[0mfilternorm\u001b[0m\u001b[0;34m,\u001b[0m \u001b[0mfilterrad\u001b[0m\u001b[0;34m=\u001b[0m\u001b[0mfilterrad\u001b[0m\u001b[0;34m,\u001b[0m\u001b[0;34m\u001b[0m\u001b[0m\n\u001b[1;32m   3100\u001b[0m                         \u001b[0mimlim\u001b[0m\u001b[0;34m=\u001b[0m\u001b[0mimlim\u001b[0m\u001b[0;34m,\u001b[0m \u001b[0mresample\u001b[0m\u001b[0;34m=\u001b[0m\u001b[0mresample\u001b[0m\u001b[0;34m,\u001b[0m \u001b[0murl\u001b[0m\u001b[0;34m=\u001b[0m\u001b[0murl\u001b[0m\u001b[0;34m,\u001b[0m \u001b[0mdata\u001b[0m\u001b[0;34m=\u001b[0m\u001b[0mdata\u001b[0m\u001b[0;34m,\u001b[0m\u001b[0;34m\u001b[0m\u001b[0m\n\u001b[0;32m-> 3101\u001b[0;31m                         **kwargs)\n\u001b[0m\u001b[1;32m   3102\u001b[0m     \u001b[0;32mfinally\u001b[0m\u001b[0;34m:\u001b[0m\u001b[0;34m\u001b[0m\u001b[0m\n\u001b[1;32m   3103\u001b[0m         \u001b[0max\u001b[0m\u001b[0;34m.\u001b[0m\u001b[0m_hold\u001b[0m \u001b[0;34m=\u001b[0m \u001b[0mwashold\u001b[0m\u001b[0;34m\u001b[0m\u001b[0m\n",
      "\u001b[0;32m~/anaconda3/lib/python3.6/site-packages/matplotlib/__init__.py\u001b[0m in \u001b[0;36minner\u001b[0;34m(ax, *args, **kwargs)\u001b[0m\n\u001b[1;32m   1715\u001b[0m                     warnings.warn(msg % (label_namer, func.__name__),\n\u001b[1;32m   1716\u001b[0m                                   RuntimeWarning, stacklevel=2)\n\u001b[0;32m-> 1717\u001b[0;31m             \u001b[0;32mreturn\u001b[0m \u001b[0mfunc\u001b[0m\u001b[0;34m(\u001b[0m\u001b[0max\u001b[0m\u001b[0;34m,\u001b[0m \u001b[0;34m*\u001b[0m\u001b[0margs\u001b[0m\u001b[0;34m,\u001b[0m \u001b[0;34m**\u001b[0m\u001b[0mkwargs\u001b[0m\u001b[0;34m)\u001b[0m\u001b[0;34m\u001b[0m\u001b[0m\n\u001b[0m\u001b[1;32m   1718\u001b[0m         \u001b[0mpre_doc\u001b[0m \u001b[0;34m=\u001b[0m \u001b[0minner\u001b[0m\u001b[0;34m.\u001b[0m\u001b[0m__doc__\u001b[0m\u001b[0;34m\u001b[0m\u001b[0m\n\u001b[1;32m   1719\u001b[0m         \u001b[0;32mif\u001b[0m \u001b[0mpre_doc\u001b[0m \u001b[0;32mis\u001b[0m \u001b[0;32mNone\u001b[0m\u001b[0;34m:\u001b[0m\u001b[0;34m\u001b[0m\u001b[0m\n",
      "\u001b[0;32m~/anaconda3/lib/python3.6/site-packages/matplotlib/axes/_axes.py\u001b[0m in \u001b[0;36mimshow\u001b[0;34m(self, X, cmap, norm, aspect, interpolation, alpha, vmin, vmax, origin, extent, shape, filternorm, filterrad, imlim, resample, url, **kwargs)\u001b[0m\n\u001b[1;32m   5144\u001b[0m         \u001b[0;31m# update ax.dataLim, and, if autoscaling, set viewLim\u001b[0m\u001b[0;34m\u001b[0m\u001b[0;34m\u001b[0m\u001b[0m\n\u001b[1;32m   5145\u001b[0m         \u001b[0;31m# to tightly fit the image, regardless of dataLim.\u001b[0m\u001b[0;34m\u001b[0m\u001b[0;34m\u001b[0m\u001b[0m\n\u001b[0;32m-> 5146\u001b[0;31m         \u001b[0mim\u001b[0m\u001b[0;34m.\u001b[0m\u001b[0mset_extent\u001b[0m\u001b[0;34m(\u001b[0m\u001b[0mim\u001b[0m\u001b[0;34m.\u001b[0m\u001b[0mget_extent\u001b[0m\u001b[0;34m(\u001b[0m\u001b[0;34m)\u001b[0m\u001b[0;34m)\u001b[0m\u001b[0;34m\u001b[0m\u001b[0m\n\u001b[0m\u001b[1;32m   5147\u001b[0m \u001b[0;34m\u001b[0m\u001b[0m\n\u001b[1;32m   5148\u001b[0m         \u001b[0mself\u001b[0m\u001b[0;34m.\u001b[0m\u001b[0madd_image\u001b[0m\u001b[0;34m(\u001b[0m\u001b[0mim\u001b[0m\u001b[0;34m)\u001b[0m\u001b[0;34m\u001b[0m\u001b[0m\n",
      "\u001b[0;32m~/anaconda3/lib/python3.6/site-packages/matplotlib/image.py\u001b[0m in \u001b[0;36mset_extent\u001b[0;34m(self, extent)\u001b[0m\n\u001b[1;32m    812\u001b[0m         \u001b[0mcorners\u001b[0m \u001b[0;34m=\u001b[0m \u001b[0;34m(\u001b[0m\u001b[0mxmin\u001b[0m\u001b[0;34m,\u001b[0m \u001b[0mymin\u001b[0m\u001b[0;34m)\u001b[0m\u001b[0;34m,\u001b[0m \u001b[0;34m(\u001b[0m\u001b[0mxmax\u001b[0m\u001b[0;34m,\u001b[0m \u001b[0mymax\u001b[0m\u001b[0;34m)\u001b[0m\u001b[0;34m\u001b[0m\u001b[0m\n\u001b[1;32m    813\u001b[0m         \u001b[0mself\u001b[0m\u001b[0;34m.\u001b[0m\u001b[0maxes\u001b[0m\u001b[0;34m.\u001b[0m\u001b[0mupdate_datalim\u001b[0m\u001b[0;34m(\u001b[0m\u001b[0mcorners\u001b[0m\u001b[0;34m)\u001b[0m\u001b[0;34m\u001b[0m\u001b[0m\n\u001b[0;32m--> 814\u001b[0;31m         \u001b[0mself\u001b[0m\u001b[0;34m.\u001b[0m\u001b[0msticky_edges\u001b[0m\u001b[0;34m.\u001b[0m\u001b[0mx\u001b[0m\u001b[0;34m[\u001b[0m\u001b[0;34m:\u001b[0m\u001b[0;34m]\u001b[0m \u001b[0;34m=\u001b[0m \u001b[0;34m[\u001b[0m\u001b[0mxmin\u001b[0m\u001b[0;34m,\u001b[0m \u001b[0mxmax\u001b[0m\u001b[0;34m]\u001b[0m\u001b[0;34m\u001b[0m\u001b[0m\n\u001b[0m\u001b[1;32m    815\u001b[0m         \u001b[0mself\u001b[0m\u001b[0;34m.\u001b[0m\u001b[0msticky_edges\u001b[0m\u001b[0;34m.\u001b[0m\u001b[0my\u001b[0m\u001b[0;34m[\u001b[0m\u001b[0;34m:\u001b[0m\u001b[0;34m]\u001b[0m \u001b[0;34m=\u001b[0m \u001b[0;34m[\u001b[0m\u001b[0mymin\u001b[0m\u001b[0;34m,\u001b[0m \u001b[0mymax\u001b[0m\u001b[0;34m]\u001b[0m\u001b[0;34m\u001b[0m\u001b[0m\n\u001b[1;32m    816\u001b[0m         \u001b[0;32mif\u001b[0m \u001b[0mself\u001b[0m\u001b[0;34m.\u001b[0m\u001b[0maxes\u001b[0m\u001b[0;34m.\u001b[0m\u001b[0m_autoscaleXon\u001b[0m\u001b[0;34m:\u001b[0m\u001b[0;34m\u001b[0m\u001b[0m\n",
      "\u001b[0;31mKeyboardInterrupt\u001b[0m: "
     ]
    }
   ],
   "source": [
    "fig = plt.figure()\n",
    "ims = []\n",
    "for i in range(len(adversial_images)):\n",
    "    im = plt.imshow(adversial_images[i].reshape(28,28), cmap='gray', animated=True)\n",
    "    ims.append([im])\n",
    "    \n",
    "ani = animation.ArtistAnimation(fig, ims, interval=50, blit=True,repeat_delay=1000)\n",
    "ani.save('dynamic_images.mp4')\n",
    "plt.show()"
   ]
  },
  {
   "cell_type": "code",
   "execution_count": 21,
   "metadata": {},
   "outputs": [
    {
     "data": {
      "text/plain": [
       "array([-7.77562253e-03, -1.77955348e-02,  5.98165523e-03, -6.14363141e-03,\n",
       "        1.34485219e-02, -6.59610478e-03, -3.60129743e-03,  2.48271630e-02,\n",
       "       -1.16119463e-02, -1.16827944e-02, -1.87642556e-02,  1.63031681e-02,\n",
       "       -2.91652775e-02, -8.30382903e-03, -9.50964421e-03, -4.12572862e-02,\n",
       "       -1.48674682e-03, -1.28338901e-02, -2.13209392e-02, -1.01953809e-02,\n",
       "        3.18871416e-02, -2.39887829e-02,  2.72576586e-02,  5.99976515e-03,\n",
       "       -1.65666079e-02,  3.98124966e-02, -1.31521625e-02, -4.28781866e-02,\n",
       "       -8.36098180e-03, -4.29245763e-02,  1.37816735e-02,  2.80144718e-02,\n",
       "       -2.79448501e-03, -1.50698074e-02,  8.55873689e-03,  5.61887293e-03,\n",
       "        1.83181744e-02, -1.49775539e-02, -4.80877048e-02,  5.00187896e-03,\n",
       "        4.22676399e-02, -9.94743038e-04,  2.10413524e-02,  5.22824438e-03,\n",
       "       -2.55977136e-02, -1.58793099e-02,  2.59966721e-02,  5.95812902e-02,\n",
       "       -4.65408672e-02, -3.11858891e-03,  1.99357167e-02, -8.66408755e-03,\n",
       "       -2.23566098e-02, -1.04729670e-02,  4.61486717e-02, -4.41844278e-02,\n",
       "       -7.98134561e-04,  3.38613764e-02, -3.87056467e-02, -1.10854540e-02,\n",
       "       -3.18177590e-03,  2.11386650e-02,  6.10675553e-02,  3.43447668e-03,\n",
       "       -6.56510259e-03,  9.96848094e-03, -5.36057311e-02,  1.55203511e-02,\n",
       "       -4.80057846e-03, -3.18804934e-02,  2.89033787e-03,  1.10169528e-03,\n",
       "       -1.16729905e-02,  4.26028166e-03,  1.93926163e-02,  4.15088155e-02,\n",
       "        5.45954895e-02, -5.82000468e-02, -1.61892521e-02, -7.01049008e-03,\n",
       "        2.03477806e-02, -1.66633592e-02, -1.55108052e-02, -2.85440793e-03,\n",
       "        1.62799675e-02,  3.00582186e-02,  8.05494579e-04,  7.64940802e-03,\n",
       "        1.06574349e-02,  9.38634353e-03,  2.93551352e-02,  4.70253394e-02,\n",
       "       -2.78802987e-02,  2.77981938e-02,  2.41431125e-02,  5.90146349e-03,\n",
       "        6.50631026e-02,  4.88707721e-02,  6.09883005e-02,  1.74939577e-02,\n",
       "        2.21321958e-02, -4.29968797e-02, -1.03456411e-02, -1.89814069e-02,\n",
       "       -5.43128141e-03,  4.17851109e-02,  2.94803831e-02,  5.26891787e-03,\n",
       "        2.24134849e-02, -3.49626295e-02, -2.08634881e-02,  3.90012799e-02,\n",
       "       -2.65034940e-02, -8.96635027e-03,  8.19098976e-02,  1.59511714e-02,\n",
       "        7.14466193e-02, -3.33184940e-02, -7.12303890e-02,  6.22772076e-02,\n",
       "        9.22044447e-02, -1.16337186e-02,  6.09030901e-02,  5.54142810e-02,\n",
       "        4.42942188e-02,  5.15437223e-02,  9.66696967e-03,  4.31194751e-03,\n",
       "       -3.55779601e-03,  4.96832385e-03,  6.28956372e-02,  1.50184022e-02,\n",
       "       -5.61625615e-02,  4.10840792e-03, -2.86970315e-03,  3.29581655e-03,\n",
       "       -5.26826784e-03, -6.63639478e-03,  8.86516419e-02,  5.51761041e-02,\n",
       "       -4.54747035e-02, -9.82302159e-03,  1.93554442e-02,  4.44752594e-02,\n",
       "       -2.41793677e-02,  1.84131815e-02, -2.34982717e-02, -1.75238473e-02,\n",
       "        3.80273641e-02, -1.57789011e-02,  4.66481909e-02, -6.84711413e-03,\n",
       "        1.61311549e-02,  9.86493406e-02,  7.85210927e-01,  9.38492421e-01,\n",
       "        9.85943018e-01,  9.68080872e-01,  7.11041550e-01,  2.31204845e-01,\n",
       "       -9.83440882e-04,  2.00786669e-02, -1.00616263e-02, -4.95183482e-02,\n",
       "        5.55399878e-02,  1.10633967e-02,  4.59017999e-02, -3.07817333e-02,\n",
       "        8.69438687e-03,  4.48990781e-02,  7.36331701e-03,  4.17744786e-02,\n",
       "        6.74270194e-03, -1.85308274e-02,  3.41931789e-02,  3.12187583e-02,\n",
       "        5.65690688e-02,  6.11974859e-02,  1.73421791e-02,  1.07105800e-02,\n",
       "        2.66212202e-02,  1.13762671e-01,  9.61601480e-01,  1.03019567e+00,\n",
       "        1.00453962e+00,  1.02430040e+00,  1.03364092e+00,  9.49346482e-01,\n",
       "        4.70228339e-01, -1.92790180e-02, -4.65068065e-02, -1.97847322e-02,\n",
       "       -4.90045040e-03,  8.81959383e-04, -3.02880257e-02,  2.81815345e-02,\n",
       "       -1.61315646e-02, -1.78363269e-02,  6.52408247e-02,  3.10657469e-02,\n",
       "        3.35272025e-02,  3.93750732e-02, -2.76470448e-02,  7.93460065e-02,\n",
       "        6.54489825e-02,  3.20181148e-02, -1.95773581e-03,  4.54870072e-02,\n",
       "        9.09677822e-03,  2.70554324e-01,  1.04992282e+00,  6.88531303e-01,\n",
       "        1.38558004e-01,  2.05385426e-02,  7.86980282e-02,  7.95666705e-01,\n",
       "        9.83624742e-01,  6.97670301e-01,  2.00823443e-02, -3.79502281e-02,\n",
       "        1.42131030e-02,  3.97620201e-02,  2.43971647e-02,  1.06818161e-02,\n",
       "       -4.57187106e-02, -2.45148048e-03,  3.63518767e-02,  1.61663944e-02,\n",
       "       -8.08863574e-03, -2.76764086e-03, -1.84499020e-02, -3.61152339e-02,\n",
       "       -6.75987255e-02, -4.05538591e-02, -1.06875189e-02,  3.84138376e-02,\n",
       "        3.55650309e-01,  7.18405566e-01,  1.05573569e+00,  1.06358137e+00,\n",
       "        7.54162835e-01, -9.07864228e-02, -1.80500209e-02,  9.46239398e-02,\n",
       "        5.37187292e-01,  9.59324228e-01,  8.41938488e-02, -1.81157206e-02,\n",
       "        1.12629973e-02, -4.05588514e-02,  1.07709331e-02,  6.28761444e-02,\n",
       "        4.41174193e-02,  4.39463063e-02,  2.12799819e-02, -4.18332193e-02,\n",
       "       -8.75819973e-03,  5.30350018e-03,  1.69382656e-02, -2.95611058e-02,\n",
       "       -7.44386999e-02, -5.75650701e-02, -6.95622951e-03,  4.40976706e-01,\n",
       "        9.69583506e-01,  8.68934811e-01,  1.01795240e+00,  9.21552565e-01,\n",
       "        7.42249730e-01, -8.30234223e-03, -6.34082752e-02,  2.92351275e-02,\n",
       "        2.86455229e-01,  8.83025217e-01,  7.50264867e-01,  2.19917202e-03,\n",
       "       -2.87924907e-02, -6.86635232e-03,  3.41737273e-02,  4.17365001e-02,\n",
       "       -8.53092052e-03, -6.44000009e-04, -1.41492042e-02,  3.69418024e-02,\n",
       "       -4.07221083e-02, -8.14250818e-03,  2.05102883e-02,  1.04963302e-02,\n",
       "       -4.20609177e-02, -4.28175387e-02,  3.15837285e-01,  9.69451515e-01,\n",
       "        9.14829797e-01,  9.06879338e-01,  4.61187115e-01,  3.94391768e-02,\n",
       "       -4.08831298e-03, -1.37437561e-02,  3.48434474e-02,  4.54426745e-02,\n",
       "       -1.29325588e-02,  6.17349558e-01,  9.45785080e-01, -5.35795096e-02,\n",
       "        1.18757410e-03, -2.14653620e-02, -9.06121844e-03,  2.14270547e-02,\n",
       "        3.94983712e-02,  4.27500764e-02,  1.22872999e-02,  5.64360825e-03,\n",
       "       -3.39281268e-03,  4.51824837e-02, -2.02818948e-02, -2.95590854e-02,\n",
       "       -1.42988804e-02,  2.26750661e-01,  9.54198196e-01,  9.49027885e-01,\n",
       "        8.29826557e-01,  4.80753965e-02,  8.74571850e-02,  2.49832430e-02,\n",
       "        8.70404873e-02,  1.82071233e-02,  2.88641524e-02,  7.28026801e-03,\n",
       "       -2.63958232e-02,  6.12490983e-01,  9.49901251e-01, -7.86937440e-02,\n",
       "        8.14684386e-03, -2.28136335e-02,  6.16631735e-03,  5.40846759e-03,\n",
       "       -1.66258649e-02, -2.76291823e-02, -1.85360349e-02, -6.06370849e-02,\n",
       "       -2.47792543e-02, -3.69179047e-02, -3.70941797e-02, -7.02238159e-02,\n",
       "       -1.04796774e-02,  5.87150253e-01,  9.58446877e-01,  8.99338413e-01,\n",
       "        1.55985104e-01,  7.19401636e-03,  4.47218300e-02,  1.18453831e-02,\n",
       "       -7.46114871e-03, -4.64486341e-02,  3.91197832e-02,  2.52766486e-02,\n",
       "        2.30783929e-02,  3.56277227e-01,  9.55827167e-01, -4.26121630e-02,\n",
       "        2.39131694e-02, -2.31459504e-02,  5.40911107e-02, -1.98112442e-02,\n",
       "       -1.30190119e-02, -1.63128992e-02, -3.96305273e-02, -6.01722313e-02,\n",
       "        2.11134747e-02,  2.55853365e-02, -7.09705620e-02,  2.09774495e-05,\n",
       "        1.43937630e-01,  9.58833678e-01,  9.44565478e-01,  4.89814020e-01,\n",
       "        3.07586037e-02, -7.93861076e-03,  5.13314628e-02,  7.33108216e-02,\n",
       "        7.23903506e-02,  8.88516809e-02,  3.33627315e-03,  2.71189268e-02,\n",
       "        7.23256444e-02,  6.50762986e-01,  6.84472764e-01, -4.91164666e-02,\n",
       "        2.85181230e-02,  1.22619028e-02, -4.00453974e-02,  2.72677408e-02,\n",
       "        2.64223589e-02,  4.09608841e-04, -4.37083260e-04,  1.98480607e-03,\n",
       "       -5.00642612e-02, -4.20511328e-02, -3.97089250e-02, -1.66192473e-02,\n",
       "        7.24543226e-01,  9.20965879e-01,  8.81668020e-01,  1.04853460e-01,\n",
       "       -4.42555755e-02,  3.81900429e-02,  8.56671335e-02,  1.71752517e-02,\n",
       "       -3.98685945e-02,  5.57056313e-03,  8.55287566e-04,  1.25121262e-02,\n",
       "        3.44529535e-02,  6.20946923e-01,  2.94161126e-01, -6.81738887e-02,\n",
       "        8.56573868e-03, -3.76841643e-02,  1.80406647e-02,  6.50826692e-03,\n",
       "        1.52606103e-02, -7.50524977e-03, -7.20715541e-03,  3.27226391e-02,\n",
       "       -4.52344573e-03, -4.17168021e-02,  1.15820614e-02,  5.65507985e-02,\n",
       "        7.91658885e-01,  9.48874401e-01,  6.87837687e-01,  2.23045511e-02,\n",
       "        2.50126304e-02,  6.63798507e-02,  2.74706640e-03,  2.55528996e-02,\n",
       "       -1.78646868e-02, -5.72035020e-03, -3.08797054e-03,  4.90357274e-02,\n",
       "        9.75267721e-03,  1.01206280e+00,  9.45318089e-02, -4.12851046e-02,\n",
       "       -3.43471213e-02,  5.31914034e-02,  6.88544666e-02,  4.12871931e-02,\n",
       "       -4.56730556e-02, -3.51754652e-02, -4.94332880e-02,  2.99636665e-02,\n",
       "       -2.39323730e-03, -2.38217011e-02, -5.35833874e-02,  3.40949573e-01,\n",
       "        9.83195332e-01,  9.71649630e-01,  2.61142938e-01, -5.48932151e-02,\n",
       "       -2.04495461e-02,  1.67298866e-02, -1.76729568e-02,  2.05166495e-02,\n",
       "        1.26927765e-03, -3.41104480e-02,  8.75472333e-02,  1.72800579e-02,\n",
       "        5.28059903e-01,  1.00727446e+00,  1.13030864e-01, -8.45776843e-03,\n",
       "        2.54160525e-03,  7.94282332e-02,  2.05538778e-02,  1.20844336e-02,\n",
       "        1.49469207e-02,  4.06644936e-02, -2.75298690e-02,  6.73645122e-03,\n",
       "       -3.85363906e-02, -8.20306084e-03, -2.50698708e-02,  8.16108008e-01,\n",
       "        9.81393210e-01,  7.15557673e-01, -3.24080146e-02,  2.03968082e-03,\n",
       "        3.72560017e-02, -1.85475428e-02,  2.84927830e-02,  1.20027799e-03,\n",
       "        3.32599304e-02,  1.47772815e-02, -1.58618322e-02,  1.18703265e-01,\n",
       "        8.34885612e-01,  5.98972792e-01, -1.89829772e-02, -2.61741318e-02,\n",
       "        6.01991574e-03,  3.64621418e-02, -2.35857312e-02,  1.61452769e-02,\n",
       "       -2.10477576e-03, -2.46087539e-02, -1.61520312e-02,  3.73603650e-02,\n",
       "       -1.03557443e-02,  2.74443941e-02, -8.05472777e-03,  9.30426554e-01,\n",
       "        9.32580940e-01,  4.49479673e-01, -2.61870451e-02, -9.16520514e-02,\n",
       "        5.70911877e-03,  5.25237144e-02, -2.91795565e-02,  1.14548725e-02,\n",
       "       -2.28092295e-02,  2.97948457e-02,  4.11051081e-02,  7.22319904e-01,\n",
       "        9.07541228e-01,  1.71144788e-01,  1.94464306e-02, -4.31858487e-02,\n",
       "       -9.16269216e-03,  1.40510739e-02,  4.14929128e-03,  1.86045609e-02,\n",
       "       -2.90402395e-02,  1.42363275e-02, -1.05324600e-02, -5.74152512e-05,\n",
       "        8.64359110e-02,  2.57055903e-02, -2.11112761e-02,  9.91692049e-01,\n",
       "        9.95380417e-01,  3.98697165e-01, -3.03195266e-02, -3.54274185e-03,\n",
       "       -6.40682509e-02, -3.48175163e-03,  2.91429606e-02,  1.15113262e-02,\n",
       "        4.19710348e-03, -3.51260309e-02,  5.64430724e-01,  9.00370501e-01,\n",
       "        3.30067550e-01,  7.11582452e-02, -3.89683735e-02,  4.08361928e-02,\n",
       "       -1.49751671e-02, -2.83582142e-03,  1.37516440e-02,  1.18697050e-02,\n",
       "       -1.03541796e-02, -5.30723757e-02, -1.63336641e-02,  4.64690102e-02,\n",
       "        5.38928432e-02,  3.57597947e-02,  3.55584506e-02,  9.97828694e-01,\n",
       "        1.02900285e+00,  1.27660553e-01,  2.23143340e-02, -1.38162006e-03,\n",
       "       -8.38339227e-03,  3.87303570e-03,  3.61623947e-02,  4.01281519e-02,\n",
       "        4.53225669e-02,  4.07413330e-01,  9.29132706e-01,  5.13996992e-01,\n",
       "        1.95729837e-02, -2.24703241e-02,  3.19582418e-03,  1.18423761e-02,\n",
       "       -6.68402491e-02,  5.60709139e-02, -2.48903085e-02, -3.21482546e-03,\n",
       "       -3.61365511e-02, -9.51925641e-03, -5.67260129e-04, -2.28738907e-02,\n",
       "        6.00335532e-03,  5.12511728e-02,  2.62692636e-03,  9.60266200e-01,\n",
       "        9.58865705e-01,  1.39572049e-01,  5.00333461e-03, -7.06524866e-02,\n",
       "       -3.96223120e-02,  1.01303871e-02,  2.49096900e-02,  1.58274052e-01,\n",
       "        5.49309324e-01,  9.39622665e-01,  3.36864082e-01, -1.67779099e-02,\n",
       "        5.13418045e-02,  1.12959889e-02, -6.41222677e-03,  2.34823009e-02,\n",
       "       -3.97593797e-02,  1.31487629e-02,  8.99421041e-03, -1.30152738e-02,\n",
       "        4.22885762e-02, -2.62638252e-02, -4.45509555e-02,  6.22113577e-02,\n",
       "        2.01361014e-02, -3.81205830e-02,  1.33579293e-02,  5.49991397e-01,\n",
       "        9.89804121e-01,  4.92136981e-01, -3.34630322e-02, -2.54007249e-02,\n",
       "       -3.28630759e-02,  7.36037652e-02,  3.85731316e-01,  8.91683938e-01,\n",
       "        8.79004001e-01,  2.07689833e-01,  4.00451820e-02, -9.81945289e-03,\n",
       "        5.58994957e-02,  1.15546206e-02, -1.08215661e-02, -1.04632037e-02,\n",
       "        6.31199031e-02,  3.51181437e-02, -4.21407866e-03,  2.38713380e-02,\n",
       "        7.77493654e-02,  7.70491597e-03, -4.18857880e-02, -2.75236651e-02,\n",
       "        1.94425496e-02, -3.38194403e-02,  1.07646924e-02,  1.02459165e-01,\n",
       "        7.67335923e-01,  9.72583149e-01,  7.11355233e-01,  6.51416134e-01,\n",
       "        6.27119615e-01,  9.17460944e-01,  8.91236768e-01,  6.20763751e-01,\n",
       "        1.57536004e-01,  1.99112752e-02,  3.66204856e-02,  4.22128553e-02,\n",
       "        3.77830617e-02, -1.81124609e-02,  4.29904956e-03,  2.58665468e-02,\n",
       "        2.11226082e-02, -4.05247126e-02,  8.88935850e-03, -2.92256432e-02,\n",
       "        4.39887515e-02, -2.51429966e-02,  1.00467292e-02,  1.56164704e-02,\n",
       "        1.12877718e-02, -3.89492570e-02,  4.77505108e-02,  1.45752163e-02,\n",
       "        7.97321606e-02,  4.98722208e-01,  1.01547966e+00,  1.03855218e+00,\n",
       "        8.99399869e-01,  5.75584646e-01,  1.21861478e-01, -1.53208201e-02,\n",
       "        4.15706291e-02, -1.67447189e-02,  2.24827533e-02,  3.37023803e-03,\n",
       "        3.83602875e-02,  2.38169315e-02, -2.04439893e-02,  1.91417382e-05,\n",
       "       -1.25982776e-02, -1.09373905e-02, -5.00135027e-03, -4.37188156e-02,\n",
       "       -8.79954390e-02, -1.53080299e-02, -2.57620200e-02,  4.40939542e-03,\n",
       "        1.23904397e-03,  1.25926291e-03,  1.07079381e-02,  4.46406903e-02,\n",
       "        5.54140138e-02,  6.77566795e-02,  2.68250973e-03, -3.46991045e-02,\n",
       "       -2.15298254e-02,  2.27845485e-02, -7.00217652e-02, -2.30480366e-02,\n",
       "       -1.28174581e-02,  1.65373990e-02,  4.16637863e-02, -5.33824726e-02,\n",
       "       -2.50667522e-02, -6.42110997e-02, -3.38482992e-02, -7.99250538e-03,\n",
       "       -1.65714108e-02,  3.95345301e-02,  2.21823210e-02, -5.20678464e-02,\n",
       "        3.10861239e-02, -8.25068372e-03, -2.54847772e-02,  4.15812936e-02,\n",
       "       -1.62067513e-02,  6.72730295e-02,  6.49994936e-02, -2.86946547e-02,\n",
       "        1.77101085e-02, -7.00551474e-03, -2.61318074e-02, -1.84011808e-02,\n",
       "       -4.12880694e-02,  2.41434954e-02,  2.37082181e-03, -3.00443139e-02,\n",
       "        3.44070215e-02, -1.53952659e-02,  1.58089098e-02, -1.92972700e-02,\n",
       "        4.09064807e-02,  4.36310172e-02, -1.51339947e-02,  4.63239592e-02,\n",
       "        6.00709142e-03, -1.90168946e-02,  2.17426239e-02,  7.66950063e-03,\n",
       "        3.31615395e-03,  4.97726479e-02, -4.65514818e-02,  2.64306460e-02,\n",
       "        9.79599309e-03, -3.64318622e-02, -3.34099755e-03, -1.04764408e-02,\n",
       "        7.63026375e-03, -1.20417685e-02,  1.29290685e-02,  1.13970830e-03,\n",
       "        3.22401346e-02, -1.77281922e-02,  1.14095751e-02,  2.52306364e-03,\n",
       "       -3.30286692e-03, -2.05317765e-02,  3.17085272e-02, -4.42894251e-02,\n",
       "        5.83065121e-02, -3.17113230e-02,  4.18693425e-03, -2.40371908e-02,\n",
       "        1.61024381e-06,  6.40825599e-02, -2.61382563e-02, -1.29461163e-02])"
      ]
     },
     "execution_count": 21,
     "metadata": {},
     "output_type": "execute_result"
    }
   ],
   "source": [
    "adversial_images[1]"
   ]
  },
  {
   "cell_type": "code",
   "execution_count": null,
   "metadata": {},
   "outputs": [],
   "source": []
  }
 ],
 "metadata": {
  "kernelspec": {
   "display_name": "Python 3",
   "language": "python",
   "name": "python3"
  },
  "language_info": {
   "codemirror_mode": {
    "name": "ipython",
    "version": 3
   },
   "file_extension": ".py",
   "mimetype": "text/x-python",
   "name": "python",
   "nbconvert_exporter": "python",
   "pygments_lexer": "ipython3",
   "version": "3.8.5"
  }
 },
 "nbformat": 4,
 "nbformat_minor": 2
}
