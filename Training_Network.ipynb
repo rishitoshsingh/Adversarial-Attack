{
 "cells": [
  {
   "cell_type": "code",
   "execution_count": 1,
   "metadata": {},
   "outputs": [],
   "source": [
    "from NeuralNetwork import ANN\n",
    "import numpy as np\n",
    "from matplotlib import pyplot as plt\n",
    "import pandas as pd"
   ]
  },
  {
   "cell_type": "code",
   "execution_count": 18,
   "metadata": {},
   "outputs": [],
   "source": [
    "train_data = pd.read_csv('mnist_train.csv',header=None)\n",
    "test_data = pd.read_csv('mnist_test.csv',header=None)\n",
    "train_data = train_data.sample(n=600)\n",
    "test_data = test_data.sample(n=100)\n",
    "# test_data.sample(n=1)"
   ]
  },
  {
   "cell_type": "code",
   "execution_count": 19,
   "metadata": {},
   "outputs": [],
   "source": [
    "X_train = train_data.iloc[:,1:].values / 255\n",
    "y_train = train_data.iloc[:,0].values.reshape(X_train.shape[0],1)\n",
    "X_test = test_data.iloc[:,1:].values / 255\n",
    "y_test = test_data.iloc[:,0].values.reshape(X_test.shape[0],1)"
   ]
  },
  {
   "cell_type": "code",
   "execution_count": 20,
   "metadata": {},
   "outputs": [],
   "source": [
    "lr = np.arange(10)\n",
    "one_hot = []\n",
    "for label in y_train.ravel():\n",
    "    one_hot.append((lr==label).astype(np.int).tolist())\n",
    "y_train = one_hot\n",
    "one_hot = []\n",
    "for label in y_test.ravel():\n",
    "    one_hot.append((lr==label).astype(np.int).tolist())\n",
    "y_test = one_hot"
   ]
  },
  {
   "cell_type": "code",
   "execution_count": 21,
   "metadata": {},
   "outputs": [
    {
     "name": "stdout",
     "output_type": "stream",
     "text": [
      "Target [0, 0, 0, 0, 0, 0, 0, 0, 0, 1]\n"
     ]
    },
    {
     "data": {
      "image/png": "[encoded data removed]",
      "text/plain": [
       "<Figure size 432x288 with 1 Axes>"
      ]
     },
     "metadata": {
      "needs_background": "light"
     },
     "output_type": "display_data"
    }
   ],
   "source": [
    "sample = 90\n",
    "print(\"Target {}\".format(y_train[sample]))\n",
    "plt.imshow(X_train[sample].reshape(28,28),cmap='gray')\n",
    "plt.show()"
   ]
  },
  {
   "cell_type": "code",
   "execution_count": 22,
   "metadata": {},
   "outputs": [],
   "source": [
    "X_train_list = X_train.tolist()"
   ]
  },
  {
   "cell_type": "code",
   "execution_count": 23,
   "metadata": {},
   "outputs": [],
   "source": [
    "model = ANN(784,[20],10,seed=5,weights_range=0.4)"
   ]
  },
  {
   "cell_type": "code",
   "execution_count": 37,
   "metadata": {
    "scrolled": true
   },
   "outputs": [
    {
     "name": "stdout",
     "output_type": "stream",
     "text": [
      "Epoch ---  0  MSE :  0.006708080235237395\n",
      "Epoch ---  1  MSE :  0.0066997585455601544\n",
      "Epoch ---  2  MSE :  0.006691503624690067\n",
      "Epoch ---  3  MSE :  0.0066833144010411604\n",
      "Epoch ---  4  MSE :  0.006675189810694381\n",
      "Epoch ---  5  MSE :  0.006667128796589879\n",
      "Epoch ---  6  MSE :  0.006659130307690941\n",
      "Epoch ---  7  MSE :  0.006651193298116054\n",
      "Epoch ---  8  MSE :  0.00664331672623527\n",
      "Epoch ---  9  MSE :  0.006635499553726654\n",
      "Epoch ---  10  MSE :  0.006627740744588208\n",
      "Epoch ---  11  MSE :  0.006620039264100144\n",
      "Epoch ---  12  MSE :  0.006612394077731915\n",
      "Epoch ---  13  MSE :  0.006604804149987812\n",
      "Epoch ---  14  MSE :  0.0065972684431842114\n",
      "Epoch ---  15  MSE :  0.006589785916150871\n",
      "Epoch ---  16  MSE :  0.0065823555228478004\n",
      "Epoch ---  17  MSE :  0.006574976210888244\n",
      "Epoch ---  18  MSE :  0.0065676469199572604\n",
      "Epoch ---  19  MSE :  0.00656036658011413\n",
      "Epoch ---  20  MSE :  0.006553134109965367\n",
      "Epoch ---  21  MSE :  0.006545948414693579\n",
      "Epoch ---  22  MSE :  0.006538808383925526\n",
      "Epoch ---  23  MSE :  0.006531712889420634\n",
      "Epoch ---  24  MSE :  0.006524660782558838\n",
      "Epoch ---  25  MSE :  0.00651765089160383\n",
      "Epoch ---  26  MSE :  0.0065106820187146525\n",
      "Epoch ---  27  MSE :  0.006503752936674846\n",
      "Epoch ---  28  MSE :  0.006496862385304197\n",
      "Epoch ---  29  MSE :  0.006490009067513151\n",
      "Epoch ---  30  MSE :  0.006483191644954309\n",
      "Epoch ---  31  MSE :  0.006476408733218825\n",
      "Epoch ---  32  MSE :  0.006469658896517694\n",
      "Epoch ---  33  MSE :  0.006462940641778981\n",
      "Epoch ---  34  MSE :  0.00645625241208141\n",
      "Epoch ---  35  MSE :  0.006449592579332263\n",
      "Epoch ---  36  MSE :  0.00644295943608286\n",
      "Epoch ---  37  MSE :  0.006436351186357563\n",
      "Epoch ---  38  MSE :  0.006429765935351591\n",
      "Epoch ---  39  MSE :  0.0064232016778284955\n",
      "Epoch ---  40  MSE :  0.006416656285018905\n",
      "Epoch ---  41  MSE :  0.006410127489787076\n",
      "Epoch ---  42  MSE :  0.006403612869789854\n",
      "Epoch ---  43  MSE :  0.00639710982830176\n",
      "Epoch ---  44  MSE :  0.0063906155723187155\n",
      "Epoch ---  45  MSE :  0.006384127087478123\n",
      "Epoch ---  46  MSE :  0.0063776411092421655\n",
      "Epoch ---  47  MSE :  0.006371154089679677\n",
      "Epoch ---  48  MSE :  0.006364662159044728\n",
      "Epoch ---  49  MSE :  0.006358161081180619\n",
      "Epoch ---  50  MSE :  0.006351646201567584\n",
      "Epoch ---  51  MSE :  0.006345112386569888\n",
      "Epoch ---  52  MSE :  0.006338553952108824\n",
      "Epoch ---  53  MSE :  0.0063319645795732885\n",
      "Epoch ---  54  MSE :  0.006325337216253535\n",
      "Epoch ---  55  MSE :  0.006318663956913754\n",
      "Epoch ---  56  MSE :  0.006311935902259595\n",
      "Epoch ---  57  MSE :  0.006305142988948634\n",
      "Epoch ---  58  MSE :  0.00629827378435278\n",
      "Epoch ---  59  MSE :  0.006291315237401675\n",
      "Epoch ---  60  MSE :  0.006284252374362421\n",
      "Epoch ---  61  MSE :  0.006277067925133603\n",
      "Epoch ---  62  MSE :  0.006269741861256852\n",
      "Epoch ---  63  MSE :  0.006262250820966842\n",
      "Epoch ---  64  MSE :  0.006254567388629114\n",
      "Epoch ---  65  MSE :  0.006246659185028917\n",
      "Epoch ---  66  MSE :  0.006238487709991021\n",
      "Epoch ---  67  MSE :  0.006230006858027767\n",
      "Epoch ---  68  MSE :  0.006221160998671658\n",
      "Epoch ---  69  MSE :  0.0062118824722852154\n",
      "Epoch ---  70  MSE :  0.006202088294300828\n",
      "Epoch ---  71  MSE :  0.0061916757786169025\n",
      "Epoch ---  72  MSE :  0.006180516673779778\n",
      "Epoch ---  73  MSE :  0.006168449239252378\n",
      "Epoch ---  74  MSE :  0.006155267455108988\n",
      "Epoch ---  75  MSE :  0.006140706236743441\n",
      "Epoch ---  76  MSE :  0.006124421104180309\n",
      "Epoch ---  77  MSE :  0.006105960256959328\n",
      "Epoch ---  78  MSE :  0.006084726565032588\n",
      "Epoch ---  79  MSE :  0.006059927032819061\n",
      "Epoch ---  80  MSE :  0.006030508968103774\n",
      "Epoch ---  81  MSE :  0.005995088104628423\n",
      "Epoch ---  82  MSE :  0.0059518900834216355\n",
      "Epoch ---  83  MSE :  0.005898763500920354\n",
      "Epoch ---  84  MSE :  0.005833392821490452\n",
      "Epoch ---  85  MSE :  0.005753932211996195\n",
      "Epoch ---  86  MSE :  0.005660267379937039\n",
      "Epoch ---  87  MSE :  0.005555611719997267\n",
      "Epoch ---  88  MSE :  0.0054469937261005024\n",
      "Epoch ---  89  MSE :  0.005343042823252978\n",
      "Epoch ---  90  MSE :  0.005250283188321118\n",
      "Epoch ---  91  MSE :  0.005171272506785926\n",
      "Epoch ---  92  MSE :  0.0051054439298472976\n",
      "Epoch ---  93  MSE :  0.005050815658067836\n",
      "Epoch ---  94  MSE :  0.0050051709533745535\n",
      "Epoch ---  95  MSE :  0.0049665628380937184\n",
      "Epoch ---  96  MSE :  0.004933435435098582\n",
      "Epoch ---  97  MSE :  0.004904594071487735\n",
      "Epoch ---  98  MSE :  0.004879135205065845\n",
      "Epoch ---  99  MSE :  0.0048563773558868845\n"
     ]
    }
   ],
   "source": [
    "model.fit(X=X_train_list,\n",
    "          y=y_train,\n",
    "          learning_rate=1.66,\n",
    "          epochs=100,\n",
    "          print_results=True)"
   ]
  },
  {
   "cell_type": "code",
   "execution_count": 40,
   "metadata": {},
   "outputs": [
    {
     "name": "stdout",
     "output_type": "stream",
     "text": [
      "Target 9\n",
      "Target [0, 0, 0, 0, 0, 0, 0, 0, 0, 1]\n"
     ]
    },
    {
     "data": {
      "image/png": "[encoded data removed]",
      "text/plain": [
       "<Figure size 432x288 with 1 Axes>"
      ]
     },
     "metadata": {
      "needs_background": "light"
     },
     "output_type": "display_data"
    }
   ],
   "source": [
    "sample = 54\n",
    "y_pred = model.predict(X_test[sample].reshape(1,784)).ravel()\n",
    "print(\"Target {}\".format(np.argmax(y_pred)))\n",
    "print(\"Target {}\".format(y_test[sample]))\n",
    "plt.imshow(X_test[sample].reshape(28,28),cmap='gray')\n",
    "plt.show()"
   ]
  },
  {
   "cell_type": "code",
   "execution_count": 41,
   "metadata": {},
   "outputs": [
    {
     "data": {
      "text/plain": [
       "['Trained1Network.model']"
      ]
     },
     "execution_count": 41,
     "metadata": {},
     "output_type": "execute_result"
    }
   ],
   "source": [
    "import joblib\n",
    "joblib.dump(model, 'Trained1Network.model')"
   ]
  }
 ],
 "metadata": {
  "kernelspec": {
   "display_name": "Python 3",
   "language": "python",
   "name": "python3"
  },
  "language_info": {
   "codemirror_mode": {
    "name": "ipython",
    "version": 3
   },
   "file_extension": ".py",
   "mimetype": "text/x-python",
   "name": "python",
   "nbconvert_exporter": "python",
   "pygments_lexer": "ipython3",
   "version": "3.6.6"
  }
 },
 "nbformat": 4,
 "nbformat_minor": 2
}
