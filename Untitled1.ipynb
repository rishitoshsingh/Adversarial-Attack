{
 "cells": [
  {
   "cell_type": "code",
   "execution_count": 1,
   "metadata": {},
   "outputs": [],
   "source": [
    "from NeuralNetwork import ANN\n",
    "import numpy as np\n",
    "from matplotlib import pyplot as plt\n",
    "import pandas as pd"
   ]
  },
  {
   "cell_type": "code",
   "execution_count": 18,
   "metadata": {},
   "outputs": [],
   "source": [
    "train_data = pd.read_csv('mnist_train.csv',header=None)\n",
    "test_data = pd.read_csv('mnist_test.csv',header=None)\n",
<<<<<<< HEAD
    "# train_data = train_data.sample(n=100)\n",
=======
    "train_data = train_data.sample(n=600)\n",
    "test_data = test_data.sample(n=100)\n",
>>>>>>> 08243d7045a49738ff2a8f292e3fe1a9091debc5
    "# test_data.sample(n=1)"
   ]
  },
  {
   "cell_type": "code",
   "execution_count": 19,
   "metadata": {},
   "outputs": [],
   "source": [
    "X_train = train_data.iloc[:,1:].values / 255\n",
    "y_train = train_data.iloc[:,0].values.reshape(X_train.shape[0],1)\n",
    "X_test = test_data.iloc[:,1:].values / 255\n",
    "y_test = test_data.iloc[:,0].values.reshape(X_test.shape[0],1)"
   ]
  },
  {
   "cell_type": "code",
   "execution_count": 20,
   "metadata": {},
   "outputs": [],
   "source": [
    "lr = np.arange(10)\n",
    "one_hot = []\n",
    "for label in y_train.ravel():\n",
    "    one_hot.append((lr==label).astype(np.int).tolist())\n",
    "y_train = one_hot\n",
    "one_hot = []\n",
    "for label in y_test.ravel():\n",
    "    one_hot.append((lr==label).astype(np.int).tolist())\n",
    "y_test = one_hot"
   ]
  },
  {
   "cell_type": "code",
   "execution_count": 21,
   "metadata": {},
   "outputs": [
    {
     "name": "stdout",
     "output_type": "stream",
     "text": [
      "Target [0, 0, 0, 0, 0, 0, 1, 0, 0, 0]\n"
     ]
    },
    {
     "data": {
<<<<<<< HEAD
      "image/png": "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\n",
      "text/plain": [
       "<matplotlib.figure.Figure at 0x7f463056cc88>"
=======
      "image/png": "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\n",
      "text/plain": [
       "<Figure size 432x288 with 1 Axes>"
>>>>>>> 08243d7045a49738ff2a8f292e3fe1a9091debc5
      ]
     },
     "metadata": {
      "needs_background": "light"
     },
     "output_type": "display_data"
    }
   ],
   "source": [
    "sample = 90\n",
    "print(\"Target {}\".format(y_train[sample]))\n",
    "plt.imshow(X_train[sample].reshape(28,28),cmap='gray')\n",
    "plt.show()"
   ]
  },
  {
   "cell_type": "code",
   "execution_count": 22,
   "metadata": {},
   "outputs": [],
   "source": [
    "X_train_list = X_train.tolist()"
   ]
  },
  {
   "cell_type": "code",
<<<<<<< HEAD
   "execution_count": 51,
   "metadata": {},
   "outputs": [],
   "source": [
    "model = ANN(784,[20],10,seed=1,weights_range=0.2)"
=======
   "execution_count": 23,
   "metadata": {},
   "outputs": [],
   "source": [
    "model = ANN(784,[20],10,seed=5,weights_range=0.4)"
>>>>>>> 08243d7045a49738ff2a8f292e3fe1a9091debc5
   ]
  },
  {
   "cell_type": "code",
<<<<<<< HEAD
   "execution_count": 52,
=======
   "execution_count": 37,
>>>>>>> 08243d7045a49738ff2a8f292e3fe1a9091debc5
   "metadata": {
    "scrolled": true
   },
   "outputs": [
    {
<<<<<<< HEAD
     "ename": "KeyboardInterrupt",
     "evalue": "",
     "output_type": "error",
     "traceback": [
      "\u001b[0;31m---------------------------------------------------------------------------\u001b[0m",
      "\u001b[0;31mKeyboardInterrupt\u001b[0m                         Traceback (most recent call last)",
      "\u001b[0;32m<ipython-input-52-6db67bea774c>\u001b[0m in \u001b[0;36m<module>\u001b[0;34m()\u001b[0m\n\u001b[1;32m      3\u001b[0m           \u001b[0mlearning_rate\u001b[0m\u001b[0;34m=\u001b[0m\u001b[0;36m0.1\u001b[0m\u001b[0;34m,\u001b[0m\u001b[0;34m\u001b[0m\u001b[0m\n\u001b[1;32m      4\u001b[0m           \u001b[0mepochs\u001b[0m\u001b[0;34m=\u001b[0m\u001b[0;36m100\u001b[0m\u001b[0;34m,\u001b[0m\u001b[0;34m\u001b[0m\u001b[0m\n\u001b[0;32m----> 5\u001b[0;31m           print_results=True)\n\u001b[0m",
      "\u001b[0;32m~/Documents/Adversial Attack/NeuralNetwork.py\u001b[0m in \u001b[0;36mfit\u001b[0;34m(self, X, y, split, test_size, learning_rate, epochs, print_results)\u001b[0m\n\u001b[1;32m     58\u001b[0m \u001b[0;34m\u001b[0m\u001b[0m\n\u001b[1;32m     59\u001b[0m             \u001b[0;32mfor\u001b[0m \u001b[0;34m(\u001b[0m\u001b[0mx_\u001b[0m\u001b[0;34m,\u001b[0m \u001b[0my_\u001b[0m\u001b[0;34m)\u001b[0m \u001b[0;32min\u001b[0m \u001b[0mzip\u001b[0m\u001b[0;34m(\u001b[0m\u001b[0mX_train\u001b[0m\u001b[0;34m,\u001b[0m \u001b[0my_train\u001b[0m\u001b[0;34m)\u001b[0m\u001b[0;34m:\u001b[0m\u001b[0;34m\u001b[0m\u001b[0m\n\u001b[0;32m---> 60\u001b[0;31m                 \u001b[0mself\u001b[0m\u001b[0;34m.\u001b[0m\u001b[0m_forward_pass\u001b[0m\u001b[0;34m(\u001b[0m\u001b[0mx_\u001b[0m\u001b[0;34m)\u001b[0m \u001b[0;31m# forward pass (update node[\"output\"])\u001b[0m\u001b[0;34m\u001b[0m\u001b[0m\n\u001b[0m\u001b[1;32m     61\u001b[0m                 \u001b[0mself\u001b[0m\u001b[0;34m.\u001b[0m\u001b[0m_backward_pass\u001b[0m\u001b[0;34m(\u001b[0m\u001b[0my_\u001b[0m\u001b[0;34m)\u001b[0m \u001b[0;31m# backward pass error (update node[\"delta\"])\u001b[0m\u001b[0;34m\u001b[0m\u001b[0m\n\u001b[1;32m     62\u001b[0m                 \u001b[0mself\u001b[0m\u001b[0;34m.\u001b[0m\u001b[0m_update_weights\u001b[0m\u001b[0;34m(\u001b[0m\u001b[0mx_\u001b[0m\u001b[0;34m,\u001b[0m \u001b[0mlearning_rate\u001b[0m\u001b[0;34m)\u001b[0m \u001b[0;31m# update weights (update node[\"weight\"])\u001b[0m\u001b[0;34m\u001b[0m\u001b[0m\n",
      "\u001b[0;32m~/Documents/Adversial Attack/NeuralNetwork.py\u001b[0m in \u001b[0;36m_forward_pass\u001b[0;34m(self, x)\u001b[0m\n\u001b[1;32m     72\u001b[0m             \u001b[0mx_out\u001b[0m \u001b[0;34m=\u001b[0m \u001b[0;34m[\u001b[0m\u001b[0;34m]\u001b[0m\u001b[0;34m\u001b[0m\u001b[0m\n\u001b[1;32m     73\u001b[0m             \u001b[0;32mfor\u001b[0m \u001b[0mnode\u001b[0m \u001b[0;32min\u001b[0m \u001b[0mlayer\u001b[0m\u001b[0;34m:\u001b[0m\u001b[0;34m\u001b[0m\u001b[0m\n\u001b[0;32m---> 74\u001b[0;31m                 \u001b[0mnode\u001b[0m\u001b[0;34m[\u001b[0m\u001b[0;34m'v'\u001b[0m\u001b[0;34m]\u001b[0m \u001b[0;34m=\u001b[0m \u001b[0mnp\u001b[0m\u001b[0;34m.\u001b[0m\u001b[0mdot\u001b[0m\u001b[0;34m(\u001b[0m\u001b[0mnode\u001b[0m\u001b[0;34m[\u001b[0m\u001b[0;34m'weights'\u001b[0m\u001b[0;34m]\u001b[0m\u001b[0;34m,\u001b[0m \u001b[0mx_in\u001b[0m\u001b[0;34m)\u001b[0m \u001b[0;34m+\u001b[0m \u001b[0mnode\u001b[0m\u001b[0;34m[\u001b[0m\u001b[0;34m'bias_weight'\u001b[0m\u001b[0;34m]\u001b[0m\u001b[0;34m\u001b[0m\u001b[0m\n\u001b[0m\u001b[1;32m     75\u001b[0m                 \u001b[0mnode\u001b[0m\u001b[0;34m[\u001b[0m\u001b[0;34m'output'\u001b[0m\u001b[0;34m]\u001b[0m \u001b[0;34m=\u001b[0m \u001b[0mself\u001b[0m\u001b[0;34m.\u001b[0m\u001b[0m_sigmoid\u001b[0m\u001b[0;34m(\u001b[0m\u001b[0mnode\u001b[0m\u001b[0;34m[\u001b[0m\u001b[0;34m'v'\u001b[0m\u001b[0;34m]\u001b[0m\u001b[0;34m)\u001b[0m\u001b[0;34m\u001b[0m\u001b[0m\n\u001b[1;32m     76\u001b[0m                 \u001b[0mx_out\u001b[0m\u001b[0;34m.\u001b[0m\u001b[0mappend\u001b[0m\u001b[0;34m(\u001b[0m\u001b[0mnode\u001b[0m\u001b[0;34m[\u001b[0m\u001b[0;34m'output'\u001b[0m\u001b[0;34m]\u001b[0m\u001b[0;34m)\u001b[0m\u001b[0;34m\u001b[0m\u001b[0m\n",
      "\u001b[0;31mKeyboardInterrupt\u001b[0m: "
=======
     "name": "stdout",
     "output_type": "stream",
     "text": [
      "Epoch ---  0  MSE :  0.006708080235237395\n",
      "Epoch ---  1  MSE :  0.0066997585455601544\n",
      "Epoch ---  2  MSE :  0.006691503624690067\n",
      "Epoch ---  3  MSE :  0.0066833144010411604\n",
      "Epoch ---  4  MSE :  0.006675189810694381\n",
      "Epoch ---  5  MSE :  0.006667128796589879\n",
      "Epoch ---  6  MSE :  0.006659130307690941\n",
      "Epoch ---  7  MSE :  0.006651193298116054\n",
      "Epoch ---  8  MSE :  0.00664331672623527\n",
      "Epoch ---  9  MSE :  0.006635499553726654\n",
      "Epoch ---  10  MSE :  0.006627740744588208\n",
      "Epoch ---  11  MSE :  0.006620039264100144\n",
      "Epoch ---  12  MSE :  0.006612394077731915\n",
      "Epoch ---  13  MSE :  0.006604804149987812\n",
      "Epoch ---  14  MSE :  0.0065972684431842114\n",
      "Epoch ---  15  MSE :  0.006589785916150871\n",
      "Epoch ---  16  MSE :  0.0065823555228478004\n",
      "Epoch ---  17  MSE :  0.006574976210888244\n",
      "Epoch ---  18  MSE :  0.0065676469199572604\n",
      "Epoch ---  19  MSE :  0.00656036658011413\n",
      "Epoch ---  20  MSE :  0.006553134109965367\n",
      "Epoch ---  21  MSE :  0.006545948414693579\n",
      "Epoch ---  22  MSE :  0.006538808383925526\n",
      "Epoch ---  23  MSE :  0.006531712889420634\n",
      "Epoch ---  24  MSE :  0.006524660782558838\n",
      "Epoch ---  25  MSE :  0.00651765089160383\n",
      "Epoch ---  26  MSE :  0.0065106820187146525\n",
      "Epoch ---  27  MSE :  0.006503752936674846\n",
      "Epoch ---  28  MSE :  0.006496862385304197\n",
      "Epoch ---  29  MSE :  0.006490009067513151\n",
      "Epoch ---  30  MSE :  0.006483191644954309\n",
      "Epoch ---  31  MSE :  0.006476408733218825\n",
      "Epoch ---  32  MSE :  0.006469658896517694\n",
      "Epoch ---  33  MSE :  0.006462940641778981\n",
      "Epoch ---  34  MSE :  0.00645625241208141\n",
      "Epoch ---  35  MSE :  0.006449592579332263\n",
      "Epoch ---  36  MSE :  0.00644295943608286\n",
      "Epoch ---  37  MSE :  0.006436351186357563\n",
      "Epoch ---  38  MSE :  0.006429765935351591\n",
      "Epoch ---  39  MSE :  0.0064232016778284955\n",
      "Epoch ---  40  MSE :  0.006416656285018905\n",
      "Epoch ---  41  MSE :  0.006410127489787076\n",
      "Epoch ---  42  MSE :  0.006403612869789854\n",
      "Epoch ---  43  MSE :  0.00639710982830176\n",
      "Epoch ---  44  MSE :  0.0063906155723187155\n",
      "Epoch ---  45  MSE :  0.006384127087478123\n",
      "Epoch ---  46  MSE :  0.0063776411092421655\n",
      "Epoch ---  47  MSE :  0.006371154089679677\n",
      "Epoch ---  48  MSE :  0.006364662159044728\n",
      "Epoch ---  49  MSE :  0.006358161081180619\n",
      "Epoch ---  50  MSE :  0.006351646201567584\n",
      "Epoch ---  51  MSE :  0.006345112386569888\n",
      "Epoch ---  52  MSE :  0.006338553952108824\n",
      "Epoch ---  53  MSE :  0.0063319645795732885\n",
      "Epoch ---  54  MSE :  0.006325337216253535\n",
      "Epoch ---  55  MSE :  0.006318663956913754\n",
      "Epoch ---  56  MSE :  0.006311935902259595\n",
      "Epoch ---  57  MSE :  0.006305142988948634\n",
      "Epoch ---  58  MSE :  0.00629827378435278\n",
      "Epoch ---  59  MSE :  0.006291315237401675\n",
      "Epoch ---  60  MSE :  0.006284252374362421\n",
      "Epoch ---  61  MSE :  0.006277067925133603\n",
      "Epoch ---  62  MSE :  0.006269741861256852\n",
      "Epoch ---  63  MSE :  0.006262250820966842\n",
      "Epoch ---  64  MSE :  0.006254567388629114\n",
      "Epoch ---  65  MSE :  0.006246659185028917\n",
      "Epoch ---  66  MSE :  0.006238487709991021\n",
      "Epoch ---  67  MSE :  0.006230006858027767\n",
      "Epoch ---  68  MSE :  0.006221160998671658\n",
      "Epoch ---  69  MSE :  0.0062118824722852154\n",
      "Epoch ---  70  MSE :  0.006202088294300828\n",
      "Epoch ---  71  MSE :  0.0061916757786169025\n",
      "Epoch ---  72  MSE :  0.006180516673779778\n",
      "Epoch ---  73  MSE :  0.006168449239252378\n",
      "Epoch ---  74  MSE :  0.006155267455108988\n",
      "Epoch ---  75  MSE :  0.006140706236743441\n",
      "Epoch ---  76  MSE :  0.006124421104180309\n",
      "Epoch ---  77  MSE :  0.006105960256959328\n",
      "Epoch ---  78  MSE :  0.006084726565032588\n",
      "Epoch ---  79  MSE :  0.006059927032819061\n",
      "Epoch ---  80  MSE :  0.006030508968103774\n",
      "Epoch ---  81  MSE :  0.005995088104628423\n",
      "Epoch ---  82  MSE :  0.0059518900834216355\n",
      "Epoch ---  83  MSE :  0.005898763500920354\n",
      "Epoch ---  84  MSE :  0.005833392821490452\n",
      "Epoch ---  85  MSE :  0.005753932211996195\n",
      "Epoch ---  86  MSE :  0.005660267379937039\n",
      "Epoch ---  87  MSE :  0.005555611719997267\n",
      "Epoch ---  88  MSE :  0.0054469937261005024\n",
      "Epoch ---  89  MSE :  0.005343042823252978\n",
      "Epoch ---  90  MSE :  0.005250283188321118\n",
      "Epoch ---  91  MSE :  0.005171272506785926\n",
      "Epoch ---  92  MSE :  0.0051054439298472976\n",
      "Epoch ---  93  MSE :  0.005050815658067836\n",
      "Epoch ---  94  MSE :  0.0050051709533745535\n",
      "Epoch ---  95  MSE :  0.0049665628380937184\n",
      "Epoch ---  96  MSE :  0.004933435435098582\n",
      "Epoch ---  97  MSE :  0.004904594071487735\n",
      "Epoch ---  98  MSE :  0.004879135205065845\n",
      "Epoch ---  99  MSE :  0.0048563773558868845\n"
>>>>>>> 08243d7045a49738ff2a8f292e3fe1a9091debc5
     ]
    }
   ],
   "source": [
    "model.fit(X=X_train_list,\n",
    "          y=y_train,\n",
    "          learning_rate=1.66,\n",
    "          epochs=100,\n",
    "          print_results=True)"
   ]
  },
  {
   "cell_type": "code",
<<<<<<< HEAD
   "execution_count": 13,
=======
   "execution_count": 40,
>>>>>>> 08243d7045a49738ff2a8f292e3fe1a9091debc5
   "metadata": {},
   "outputs": [
    {
     "name": "stdout",
     "output_type": "stream",
     "text": [
<<<<<<< HEAD
      "Target 4\n",
      "Target [0, 1, 0, 0, 0, 0, 0, 0, 0, 0]\n"
=======
      "Target 9\n",
      "Target [0, 0, 0, 0, 0, 0, 0, 0, 0, 1]\n"
>>>>>>> 08243d7045a49738ff2a8f292e3fe1a9091debc5
     ]
    },
    {
     "data": {
<<<<<<< HEAD
      "image/png": "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\n",
      "text/plain": [
       "<matplotlib.figure.Figure at 0x7f45bdf638d0>"
=======
      "image/png": "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\n",
      "text/plain": [
       "<Figure size 432x288 with 1 Axes>"
>>>>>>> 08243d7045a49738ff2a8f292e3fe1a9091debc5
      ]
     },
     "metadata": {
      "needs_background": "light"
     },
     "output_type": "display_data"
    }
   ],
   "source": [
<<<<<<< HEAD
    "sample = 2\n",
    "y_pred = model.predict(X_train[sample].reshape(1,784)).ravel()\n",
    "print(\"Target {}\".format(np.argmax(np.array(y_pred))))\n",
=======
    "sample = 54\n",
    "y_pred = model.predict(X_test[sample].reshape(1,784)).ravel()\n",
    "print(\"Target {}\".format(np.argmax(y_pred)))\n",
>>>>>>> 08243d7045a49738ff2a8f292e3fe1a9091debc5
    "print(\"Target {}\".format(y_test[sample]))\n",
    "plt.imshow(X_test[sample].reshape(28,28),cmap='gray')\n",
    "plt.show()"
   ]
  },
  {
   "cell_type": "code",
<<<<<<< HEAD
   "execution_count": 44,
   "metadata": {},
   "outputs": [],
   "source": [
    "X_target = X_train[sample].ravel()\n",
    "y_goal = [0,0,0,0,0,0,0,0,1,0]"
   ]
  },
  {
   "cell_type": "code",
   "execution_count": 53,
   "metadata": {},
   "outputs": [
    {
     "ename": "IndexError",
     "evalue": "list index out of range",
     "output_type": "error",
     "traceback": [
      "\u001b[0;31m---------------------------------------------------------------------------\u001b[0m",
      "\u001b[0;31mIndexError\u001b[0m                                Traceback (most recent call last)",
      "\u001b[0;32m<ipython-input-53-e68400bc39e8>\u001b[0m in \u001b[0;36m<module>\u001b[0;34m()\u001b[0m\n\u001b[0;32m----> 1\u001b[0;31m \u001b[0madversial_image\u001b[0m \u001b[0;34m=\u001b[0m\u001b[0mmodel\u001b[0m\u001b[0;34m.\u001b[0m\u001b[0mget_adversial_image\u001b[0m\u001b[0;34m(\u001b[0m\u001b[0mX_target\u001b[0m\u001b[0;34m,\u001b[0m \u001b[0my_goal\u001b[0m\u001b[0;34m,\u001b[0m \u001b[0mlearning_rate\u001b[0m\u001b[0;34m=\u001b[0m\u001b[0;36m0.01\u001b[0m\u001b[0;34m,\u001b[0m \u001b[0m_lambda\u001b[0m\u001b[0;34m=\u001b[0m\u001b[0;36m0.05\u001b[0m\u001b[0;34m,\u001b[0m \u001b[0mepochs\u001b[0m\u001b[0;34m=\u001b[0m\u001b[0;36m200\u001b[0m\u001b[0;34m,\u001b[0m \u001b[0mprint_results\u001b[0m\u001b[0;34m=\u001b[0m\u001b[0;32mTrue\u001b[0m\u001b[0;34m)\u001b[0m\u001b[0;34m\u001b[0m\u001b[0m\n\u001b[0m",
      "\u001b[0;32m~/Documents/Adversial Attack/NeuralNetwork.py\u001b[0m in \u001b[0;36mget_adversial_image\u001b[0;34m(self, X_target, y_goal, learning_rate, _lambda, epochs, print_results)\u001b[0m\n\u001b[1;32m    135\u001b[0m             \u001b[0mself\u001b[0m\u001b[0;34m.\u001b[0m\u001b[0m_forward_pass\u001b[0m\u001b[0;34m(\u001b[0m\u001b[0mx\u001b[0m\u001b[0;34m)\u001b[0m \u001b[0;31m# forward pass (update node[\"output\"])\u001b[0m\u001b[0;34m\u001b[0m\u001b[0m\n\u001b[1;32m    136\u001b[0m             \u001b[0mself\u001b[0m\u001b[0;34m.\u001b[0m\u001b[0m_backward_pass_adversial\u001b[0m\u001b[0;34m(\u001b[0m\u001b[0my_goal\u001b[0m\u001b[0;34m)\u001b[0m \u001b[0;31m# backward pass error (update node[\"delta\"])\u001b[0m\u001b[0;34m\u001b[0m\u001b[0m\n\u001b[0;32m--> 137\u001b[0;31m             \u001b[0mx\u001b[0m \u001b[0;34m=\u001b[0m \u001b[0mself\u001b[0m\u001b[0;34m.\u001b[0m\u001b[0m_update_inputs_adversial\u001b[0m\u001b[0;34m(\u001b[0m\u001b[0mx\u001b[0m\u001b[0;34m,\u001b[0m \u001b[0mX_target\u001b[0m\u001b[0;34m,\u001b[0m \u001b[0mlearning_rate\u001b[0m\u001b[0;34m,\u001b[0m \u001b[0m_lambda\u001b[0m\u001b[0;34m)\u001b[0m \u001b[0;31m# update weights (update node[\"weight\"])\u001b[0m\u001b[0;34m\u001b[0m\u001b[0m\n\u001b[0m\u001b[1;32m    138\u001b[0m \u001b[0;34m\u001b[0m\u001b[0m\n\u001b[1;32m    139\u001b[0m             \u001b[0mself\u001b[0m\u001b[0;34m.\u001b[0m\u001b[0mtrain_loss\u001b[0m\u001b[0;34m.\u001b[0m\u001b[0mappend\u001b[0m\u001b[0;34m(\u001b[0m\u001b[0;36m0.5\u001b[0m \u001b[0;34m*\u001b[0m \u001b[0mself\u001b[0m\u001b[0;34m.\u001b[0m\u001b[0mtrain_epoch_error\u001b[0m \u001b[0;34m+\u001b[0m \u001b[0m_lambda\u001b[0m \u001b[0;34m*\u001b[0m \u001b[0mnp\u001b[0m\u001b[0;34m.\u001b[0m\u001b[0msum\u001b[0m\u001b[0;34m(\u001b[0m\u001b[0mnp\u001b[0m\u001b[0;34m.\u001b[0m\u001b[0msquare\u001b[0m\u001b[0;34m(\u001b[0m\u001b[0mX_target\u001b[0m\u001b[0;34m-\u001b[0m\u001b[0mx\u001b[0m\u001b[0;34m)\u001b[0m\u001b[0;34m)\u001b[0m\u001b[0;34m)\u001b[0m\u001b[0;34m\u001b[0m\u001b[0m\n",
      "\u001b[0;32m~/Documents/Adversial Attack/NeuralNetwork.py\u001b[0m in \u001b[0;36m_update_inputs_adversial\u001b[0;34m(self, x, X_target, learning_rate, _lambda)\u001b[0m\n\u001b[1;32m    163\u001b[0m     \u001b[0;32mdef\u001b[0m \u001b[0m_update_inputs_adversial\u001b[0m\u001b[0;34m(\u001b[0m\u001b[0mself\u001b[0m\u001b[0;34m,\u001b[0m \u001b[0mx\u001b[0m\u001b[0;34m,\u001b[0m \u001b[0mX_target\u001b[0m\u001b[0;34m,\u001b[0m \u001b[0mlearning_rate\u001b[0m\u001b[0;34m,\u001b[0m \u001b[0m_lambda\u001b[0m\u001b[0;34m)\u001b[0m\u001b[0;34m:\u001b[0m\u001b[0;34m\u001b[0m\u001b[0m\n\u001b[1;32m    164\u001b[0m         \u001b[0;32mfor\u001b[0m \u001b[0mi\u001b[0m\u001b[0;34m,\u001b[0m \u001b[0m_input\u001b[0m \u001b[0;32min\u001b[0m \u001b[0menumerate\u001b[0m\u001b[0;34m(\u001b[0m\u001b[0mx\u001b[0m\u001b[0;34m)\u001b[0m\u001b[0;34m:\u001b[0m\u001b[0;34m\u001b[0m\u001b[0m\n\u001b[0;32m--> 165\u001b[0;31m             \u001b[0m_input\u001b[0m \u001b[0;34m+=\u001b[0m \u001b[0mlearning_rate\u001b[0m \u001b[0;34m*\u001b[0m \u001b[0mself\u001b[0m\u001b[0;34m.\u001b[0m\u001b[0mnetwork\u001b[0m\u001b[0;34m[\u001b[0m\u001b[0;36m0\u001b[0m\u001b[0;34m]\u001b[0m\u001b[0;34m[\u001b[0m\u001b[0mi\u001b[0m\u001b[0;34m]\u001b[0m\u001b[0;34m[\u001b[0m\u001b[0;34m'delta'\u001b[0m\u001b[0;34m]\u001b[0m \u001b[0;34m+\u001b[0m \u001b[0;36m2\u001b[0m \u001b[0;34m*\u001b[0m \u001b[0m_lambda\u001b[0m \u001b[0;34m*\u001b[0m \u001b[0;34m(\u001b[0m\u001b[0mX_target\u001b[0m\u001b[0;34m[\u001b[0m\u001b[0mi\u001b[0m\u001b[0;34m]\u001b[0m \u001b[0;34m-\u001b[0m \u001b[0m_input\u001b[0m\u001b[0;34m)\u001b[0m\u001b[0;34m\u001b[0m\u001b[0m\n\u001b[0m\u001b[1;32m    166\u001b[0m         \u001b[0;32mreturn\u001b[0m \u001b[0mx\u001b[0m\u001b[0;34m\u001b[0m\u001b[0m\n",
      "\u001b[0;31mIndexError\u001b[0m: list index out of range"
     ]
    }
   ],
   "source": [
    "adversial_image =model.get_adversial_image(X_target, y_goal, learning_rate=0.01, _lambda=0.05, epochs=200, print_results=True)"
   ]
  },
  {
   "cell_type": "code",
   "execution_count": 54,
=======
   "execution_count": 41,
>>>>>>> 08243d7045a49738ff2a8f292e3fe1a9091debc5
   "metadata": {},
   "outputs": [
    {
     "data": {
      "text/plain": [
<<<<<<< HEAD
       "20"
      ]
     },
     "execution_count": 54,
=======
       "['Trained1Network.model']"
      ]
     },
     "execution_count": 41,
>>>>>>> 08243d7045a49738ff2a8f292e3fe1a9091debc5
     "metadata": {},
     "output_type": "execute_result"
    }
   ],
   "source": [
<<<<<<< HEAD
    "len(model.network[0])"
=======
    "import joblib\n",
    "joblib.dump(model, 'Trained1Network.model')"
>>>>>>> 08243d7045a49738ff2a8f292e3fe1a9091debc5
   ]
  },
  {
   "cell_type": "code",
   "execution_count": null,
   "metadata": {},
   "outputs": [],
   "source": []
  }
 ],
 "metadata": {
  "kernelspec": {
   "display_name": "Python 3",
   "language": "python",
   "name": "python3"
  },
  "language_info": {
   "codemirror_mode": {
    "name": "ipython",
    "version": 3
   },
   "file_extension": ".py",
   "mimetype": "text/x-python",
   "name": "python",
   "nbconvert_exporter": "python",
   "pygments_lexer": "ipython3",
   "version": "3.7.4"
  }
 },
 "nbformat": 4,
 "nbformat_minor": 2
}
