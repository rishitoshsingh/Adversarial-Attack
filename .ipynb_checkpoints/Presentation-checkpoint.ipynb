{
 "cells": [
  {
   "cell_type": "markdown",
   "metadata": {
    "slideshow": {
     "slide_type": "slide"
    }
   },
   "source": [
    "# Adversial Attacks\n",
    "## Tricking Artificial Neural Networks\n",
    "\n",
    "Rishitosh Kumar Singh\n",
    "\n",
    "Roll number : 1602710114"
   ]
  },
  {
   "cell_type": "markdown",
   "metadata": {
    "slideshow": {
     "slide_type": "slide"
    }
   },
   "source": [
    "# What is Artificial Neural Network?\n",
    "\n",
    "Artificial Neural Network ANN is an efficient computing system whose central theme is borrowed from the analogy of biological neural networks. ANNs are also named as “artificial neural systems,”\n",
    "\n",
    "<p align=\"center\">\n",
    "  <img src=\"images/biological_artificial.png\">\n",
    "</p>\n"
   ]
  },
  {
   "cell_type": "markdown",
   "metadata": {
    "slideshow": {
     "slide_type": "subslide"
    }
   },
   "source": [
    "# How they works?\n",
    "\n",
    "Network tries to minimize loss by adjusting learnable parameters (eg. Weights and Biases)."
   ]
  },
  {
   "cell_type": "markdown",
   "metadata": {
    "slideshow": {
     "slide_type": "fragment"
    }
   },
   "source": [
    "![SegmentLocal](images/neural_network.gif \"segment\")"
   ]
  },
  {
   "cell_type": "markdown",
   "metadata": {
    "slideshow": {
     "slide_type": "subslide"
    }
   },
   "source": [
    "# Current Scenario"
   ]
  },
  {
   "cell_type": "markdown",
   "metadata": {
    "slideshow": {
     "slide_type": "fragment"
    }
   },
   "source": [
    "* Since 2013, deep neural networks have matched and in somecase surpassed human performance. \n",
    "* Speech Recognition\n",
    "* Face Recognition\n",
    "* Autopilots"
   ]
  },
  {
   "cell_type": "markdown",
   "metadata": {
    "slideshow": {
     "slide_type": "subslide"
    }
   },
   "source": [
    "## Adversial Examples\n",
    "\n",
    "Adversarial examples are inputs to a neural network that result in an incorrect output from the network.\n",
    "\n",
    "<img src=\"images/panda.png\" width=\"1000\" height=\"200\" align=\"center\"/>\n",
    "<img src=\"images/panda2.png\" width=\"1000\" height=\"200\" align=\"center\"/>"
   ]
  },
  {
   "cell_type": "markdown",
   "metadata": {
    "slideshow": {
     "slide_type": "notes"
    }
   },
   "source": [
    "Assassination by neural network. Sound crazy? Well, it might happen someday, and not in the way you may think. Of course, neural networks could be trained to pilot drones or operate other weapons of mass destruction, but even an innocuous (and presently available) network trained to drive a car could be turned to act against its owner. This is because neural networks are extremely susceptible to something called adversarial examples.\n",
    "\n",
    "You can start with an image of a panda on the left which some network thinks with 57.7% confidence is a “panda.” The panda category is also the category with the highest confidence out of all the categories, so the network concludes that the object in the image is a panda. But then by adding a very small amount of carefully constructed noise you can get an image that looks exactly the same to a human, but that the network thinks with 99.3% confidence is a “gibbon.” Pretty crazy stuff!"
   ]
  },
  {
   "cell_type": "markdown",
   "metadata": {
    "slideshow": {
     "slide_type": "subslide"
    }
   },
   "source": [
    "## Some Adversial Attacks"
   ]
  },
  {
   "cell_type": "markdown",
   "metadata": {
    "slideshow": {
     "slide_type": "subslide"
    }
   },
   "source": [
    "![Attack 1](images/attack1.png)"
   ]
  },
  {
   "cell_type": "markdown",
   "metadata": {
    "slideshow": {
     "slide_type": "subslide"
    }
   },
   "source": [
    "![Attack 2](images/sticker.png)"
   ]
  },
  {
   "cell_type": "markdown",
   "metadata": {
    "slideshow": {
     "slide_type": "subslide"
    }
   },
   "source": [
    "## Attacking Tesla Autopilot\n",
    "\n",
    "*\"Hackers have also demonstrated how they could trick a Tesla Model S to enter into the wrong lane by using a method called \"adversarial attack\", a way of manipulating a Machine Learning model.\"*\n",
    "\n",
    "![tesla lane](images/tesla_lane.png)"
   ]
  },
  {
   "cell_type": "markdown",
   "metadata": {
    "slideshow": {
     "slide_type": "slide"
    }
   },
   "source": [
    "# Classification of Adversial Attacks\n",
    "\n",
    "## Adversary's Goal\n",
    "*What is the goal or purpose of the attacker? Does he want to misguide the classifier’s decision on one sample, or influence the overall performance of the classifier?*\n",
    "* Targeted Attack \n",
    "* Non-Targeted Attack\n",
    "\n",
    "## Adversary's Knowledge\n",
    "\n",
    "*What information is available to the attacker? Does he know the classifier’s structure, its parameters or the training set used for classifier training?*\n",
    "* White-Box Attack\n",
    "* Black-Box Attack"
   ]
  },
  {
   "cell_type": "markdown",
   "metadata": {
    "slideshow": {
     "slide_type": "subslide"
    }
   },
   "source": [
    "## Targated Attack\n",
    "\n",
    "Consider a L-M-N, a 3 layered network consisting of L's input neurons, M's hidden neurons and N's Output neurons.\n",
    "<img src=\"images/adversial_network.jpg\" width=\"500\" height=\"800\" align=\"center\"/>\n",
    "\n",
    "$Loss = \\frac{1}{2} \\sum \\limits_{n=1}^{N} \\left({y_{goal}}_n - y_n \\right)^2 + \\lambda \\sum \\limits_{l=1}^{L} \\left({x_{target}}_l - x_l \\right)^2 $\n",
    "\n",
    "$x_l = x_l - \\frac{\\partial Loss}{\\partial x_l}$\n",
    "\n",
    "$\\frac{\\partial Loss}{\\partial x_l} = -\\sum\\limits_{m=1}^{M} \\left( \\sum\\limits_{n=1}^{N} ({y_{goal}}_n - y_n) f'(v_n) w_{mn} \\right) f'(V_m) w_{lm} - 2\\lambda ({x_{target}}_l - x_l )$"
   ]
  },
  {
   "cell_type": "markdown",
   "metadata": {
    "slideshow": {
     "slide_type": "slide"
    }
   },
   "source": [
    "# Let's perform a targeted adversial attack on a trained Network"
   ]
  },
  {
   "cell_type": "markdown",
   "metadata": {
    "slideshow": {
     "slide_type": "fragment"
    }
   },
   "source": [
    "Importing Libraries"
   ]
  },
  {
   "cell_type": "code",
   "execution_count": 8,
   "metadata": {
    "slideshow": {
     "slide_type": "-"
    }
   },
   "outputs": [],
   "source": [
    "from NeuralNetwork2 import ANN2\n",
    "import numpy as np\n",
    "from matplotlib import pyplot as plt\n",
    "import pandas as pd\n",
    "import joblib\n",
    "% matplotlib inline"
   ]
  },
  {
   "cell_type": "code",
   "execution_count": 11,
   "metadata": {
    "slideshow": {
     "slide_type": "-"
    }
   },
   "outputs": [],
   "source": [
    "import warnings\n",
    "warnings.filterwarnings('ignore')"
   ]
  },
  {
   "cell_type": "markdown",
   "metadata": {
    "slideshow": {
     "slide_type": "subslide"
    }
   },
   "source": [
    "## MNIST Dataset\n",
    "The MNIST database of handwritten digits has a training set of $60,000$ examples, and a test set of $10,000$ examples.\n",
    "\n",
    "Each image is of size $28$ X $28$    \n",
    "\n",
    "<img src=\"images/mnist.png\" width=\"800\" height=\"800\" align=\"center\"/>"
   ]
  },
  {
   "cell_type": "code",
   "execution_count": 38,
   "metadata": {
    "slideshow": {
     "slide_type": "fragment"
    }
   },
   "outputs": [],
   "source": [
    "train_data = pd.read_csv('train.csv')\n",
    "test_data = pd.read_csv('test.csv')"
   ]
  },
  {
   "cell_type": "code",
   "execution_count": 40,
   "metadata": {
    "slideshow": {
     "slide_type": "-"
    }
   },
   "outputs": [],
   "source": [
    "X_train = train_data.iloc[:,1:].values / 255\n",
    "y_train = train_data.iloc[:,0].values.reshape(X_train.shape[0],1)\n",
    "X_test = test_data.iloc[:,1:].values / 255\n",
    "y_test = test_data.iloc[:,0].values.reshape(X_test.shape[0],1)"
   ]
  },
  {
   "cell_type": "code",
   "execution_count": 41,
   "metadata": {
    "slideshow": {
     "slide_type": "-"
    }
   },
   "outputs": [],
   "source": [
    "lr = np.arange(10)\n",
    "one_hot = []\n",
    "for label in y_train.ravel():\n",
    "    one_hot.append((lr==label).astype(np.int).tolist())\n",
    "y_train = one_hot\n",
    "one_hot = []\n",
    "for label in y_test.ravel():\n",
    "    one_hot.append((lr==label).astype(np.int).tolist())\n",
    "y_test = one_hot"
   ]
  },
  {
   "cell_type": "markdown",
   "metadata": {
    "slideshow": {
     "slide_type": "subslide"
    }
   },
   "source": [
    "## Loading Trained Network"
   ]
  },
  {
   "cell_type": "code",
   "execution_count": 22,
   "metadata": {
    "slideshow": {
     "slide_type": "-"
    }
   },
   "outputs": [],
   "source": [
    "model = joblib.load('Trained1Network.model')"
   ]
  },
  {
   "cell_type": "markdown",
   "metadata": {
    "slideshow": {
     "slide_type": "fragment"
    }
   },
   "source": [
    "### Network Architecture : 784, [20], 10\n",
    "\n",
    "### Input Neurons : 784 (28 X 28)\n",
    "\n",
    "### Hidden Layers : 1 (20 Neurons)\n",
    "\n",
    "### Output Neurons : 10"
   ]
  },
  {
   "cell_type": "markdown",
   "metadata": {
    "slideshow": {
     "slide_type": "subslide"
    }
   },
   "source": [
    "## Testing Network"
   ]
  },
  {
   "cell_type": "code",
   "execution_count": 37,
   "metadata": {
    "slideshow": {
     "slide_type": "-"
    }
   },
   "outputs": [
    {
     "name": "stdout",
     "output_type": "stream",
     "text": [
      "Predicted : 0\n",
      "Target : 0\n"
     ]
    },
    {
     "data": {
      "image/png": "[encoded data removed]",
      "text/plain": [
       "<matplotlib.figure.Figure at 0x7fc388c98dd8>"
      ]
     },
     "metadata": {},
     "output_type": "display_data"
    }
   ],
   "source": [
    "sample = 30\n",
    "y_pred = model.predict(X_test[sample].reshape(1,784)).ravel()\n",
    "print(\"Predicted : {}\".format(np.argmax(y_pred)))\n",
    "print(\"Target : {}\".format(np.argmax(y_test[sample])))\n",
    "plt.imshow(X_test[sample].reshape(28,28),cmap='gray_r')\n",
    "plt.show()"
   ]
  },
  {
   "cell_type": "markdown",
   "metadata": {
    "slideshow": {
     "slide_type": "subslide"
    }
   },
   "source": [
    "## Let's fool our network "
   ]
  },
  {
   "cell_type": "code",
   "execution_count": 9,
   "metadata": {
    "slideshow": {
     "slide_type": "-"
    }
   },
   "outputs": [],
   "source": [
    "X_target = X_test[sample].ravel()\n",
    "y_goal = y_test[sample+1]"
   ]
  },
  {
   "cell_type": "code",
   "execution_count": 10,
   "metadata": {
    "slideshow": {
     "slide_type": "-"
    }
   },
   "outputs": [
    {
     "data": {
      "image/png": "[encoded data removed]",
      "text/plain": [
       "<Figure size 432x288 with 1 Axes>"
      ]
     },
     "metadata": {
      "needs_background": "light"
     },
     "output_type": "display_data"
    },
    {
     "name": "stdout",
     "output_type": "stream",
     "text": [
      "Predicted      : 0\n",
      "Adversial Goal : 3\n",
      "Predicted      : [1, 0, 0, 0, 0, 0, 0, 0, 0, 0]\n",
      "Adversial Goal : [0, 0, 0, 1, 0, 0, 0, 0, 0, 0]\n"
     ]
    }
   ],
   "source": [
    "plt.imshow(X_target.reshape(28,28),cmap='gray_r')\n",
    "plt.show()\n",
    "print('Predicted      : {}'.format(np.argmax(y_pred)))\n",
    "print('Adversial Goal : {}'.format(np.argmax(y_goal)))\n",
    "print('Predicted      : {}'.format(y_test[sample]))\n",
    "print('Adversial Goal : {}'.format(y_goal))"
   ]
  },
  {
   "cell_type": "code",
   "execution_count": null,
   "metadata": {
    "slideshow": {
     "slide_type": "subslide"
    }
   },
   "outputs": [],
   "source": [
    "adversial_image = model.get_adversial_image(X_target=X_target,\n",
    "                                            y_goal=y_goal,\n",
    "                                            seed=2,\n",
    "                                            learning_rate=0.01,\n",
    "                                            _lambda=0.4,\n",
    "                                            epochs=4000,\n",
    "                                            print_results=False)"
   ]
  },
  {
   "cell_type": "code",
   "execution_count": 6,
   "metadata": {
    "slideshow": {
     "slide_type": "-"
    }
   },
   "outputs": [],
   "source": [
    "adversial_images = joblib.load('adversial_images.ik')"
   ]
  },
  {
   "cell_type": "markdown",
   "metadata": {
    "slideshow": {
     "slide_type": "subslide"
    }
   },
   "source": [
    "## Generated Adversial Images "
   ]
  },
  {
   "cell_type": "code",
   "execution_count": 17,
   "metadata": {
    "slideshow": {
     "slide_type": "-"
    }
   },
   "outputs": [
    {
     "data": {
      "image/png": "[encoded data removed]",
      "text/plain": [
       "<matplotlib.figure.Figure at 0x7f1eb8533a58>"
      ]
     },
     "metadata": {},
     "output_type": "display_data"
    }
   ],
   "source": [
    "fig, (ax1, ax2) = plt.subplots(1, 2,figsize=(10,10))\n",
    "ax1.imshow(adversial_images[0]['actual_image'].reshape(28,28),cmap='gray_r')\n",
    "ax1.set_title('Prediction : {}'.format(np.argmax(adversial_images[0]['actual_prediction'])))\n",
    "ax2.imshow(adversial_images[0]['adversial_image'].reshape(28,28),cmap='gray_r')\n",
    "ax2.set_title('Prediction : {}'.format(np.argmax(adversial_images[0]['y_pred_adversial'])))\n",
    "fig.show()"
   ]
  },
  {
   "cell_type": "code",
   "execution_count": 18,
   "metadata": {
    "slideshow": {
     "slide_type": "subslide"
    }
   },
   "outputs": [
    {
     "data": {
      "image/png": "[encoded data removed]",
      "text/plain": [
       "<matplotlib.figure.Figure at 0x7f1eb88c5a90>"
      ]
     },
     "metadata": {},
     "output_type": "display_data"
    }
   ],
   "source": [
    "fig, (ax1, ax2) = plt.subplots(1, 2,figsize=(10,10))\n",
    "ax1.imshow(adversial_images[1]['actual_image'].reshape(28,28),cmap='gray_r')\n",
    "ax1.set_title('Prediction : {}'.format(np.argmax(adversial_images[1]['actual_prediction'])))\n",
    "ax2.imshow(adversial_images[1]['adversial_image'].reshape(28,28),cmap='gray_r')\n",
    "ax2.set_title('Prediction : {}'.format(np.argmax(adversial_images[1]['y_pred_adversial'])))\n",
    "fig.show()"
   ]
  },
  {
   "cell_type": "code",
   "execution_count": 19,
   "metadata": {
    "slideshow": {
     "slide_type": "subslide"
    }
   },
   "outputs": [
    {
     "data": {
      "image/png": "[encoded data removed]",
      "text/plain": [
       "<matplotlib.figure.Figure at 0x7f1eb8fc96d8>"
      ]
     },
     "metadata": {},
     "output_type": "display_data"
    }
   ],
   "source": [
    "fig, (ax1, ax2) = plt.subplots(1, 2,figsize=(10,10))\n",
    "ax1.imshow(adversial_images[2]['actual_image'].reshape(28,28),cmap='gray_r')\n",
    "ax1.set_title('Prediction : {}'.format(np.argmax(adversial_images[2]['actual_prediction'])))\n",
    "ax2.imshow(adversial_images[2]['adversial_image'].reshape(28,28),cmap='gray_r')\n",
    "ax2.set_title('Prediction : {}'.format(np.argmax(adversial_images[2]['y_pred_adversial'])))\n",
    "fig.show()"
   ]
  },
  {
   "cell_type": "code",
   "execution_count": 20,
   "metadata": {
    "slideshow": {
     "slide_type": "subslide"
    }
   },
   "outputs": [
    {
     "data": {
      "image/png": "[encoded data removed]",
      "text/plain": [
       "<matplotlib.figure.Figure at 0x7f1eb86fe7f0>"
      ]
     },
     "metadata": {},
     "output_type": "display_data"
    }
   ],
   "source": [
    "fig, (ax1, ax2) = plt.subplots(1, 2,figsize=(10,10))\n",
    "ax1.imshow(adversial_images[3]['actual_image'].reshape(28,28),cmap='gray_r')\n",
    "ax1.set_title('Prediction : {}'.format(np.argmax(adversial_images[3]['actual_prediction'])))\n",
    "ax2.imshow(adversial_images[3]['adversial_image'].reshape(28,28),cmap='gray_r')\n",
    "ax2.set_title('Prediction : {}'.format(np.argmax(adversial_images[3]['y_pred_adversial'])))\n",
    "fig.show()"
   ]
  },
  {
   "cell_type": "code",
   "execution_count": 23,
   "metadata": {
    "slideshow": {
     "slide_type": "-"
    }
   },
   "outputs": [
    {
     "name": "stdout",
     "output_type": "stream",
     "text": [
      "[0.   0.   0.   0.   0.04 0.   0.97 0.   0.   0.  ]\n",
      "[0.   0.   0.   0.   0.1  0.   0.17 0.   0.   0.02]\n"
     ]
    }
   ],
   "source": [
    "pred = model.predict(adversial_images[3]['actual_image'].reshape(1,784)).ravel()\n",
    "print(np.around(pred,decimals=2))\n",
    "print(np.around(adversial_images[3]['y_pred_adversial'],decimals=2))"
   ]
  },
  {
   "cell_type": "markdown",
   "metadata": {
    "slideshow": {
     "slide_type": "slide"
    }
   },
   "source": [
    "# Some other methods\n",
    "\n",
    "## Disturbed panda: Fast gradient sign method\n",
    "\n",
    "* Goodfellow et. al (2014) proposed the fast gradient sign method for generating adversarial images.\n",
    "* The original image x is manipulated by adding or subtracting a small error $\\epsilon$ to each pixel\n",
    "\n",
    "![adversial_panda](images\\adversial_panda.jpg)\n",
    "\n",
    "$x' = x + \\epsilon \\cdot sign \\left( \\bigtriangledown_x J\\right) $"
   ]
  },
  {
   "cell_type": "markdown",
   "metadata": {
    "slideshow": {
     "slide_type": "subslide"
    }
   },
   "source": [
    "## 1-pixel Attack\n",
    "\n",
    "* The approach presented by Goodfellow and colleagues (2014) requires many pixels to be changed, if only by a little.\n",
    "![pixel](images\\adversarial-1pixel.jpg)"
   ]
  },
  {
   "cell_type": "markdown",
   "metadata": {
    "slideshow": {
     "slide_type": "subslide"
    }
   },
   "source": [
    "# Black Box Attacks\n",
    "\n",
    "* Adversarial examples generated for one neural network architecture will transfer very well to another architecture.\n",
    "\n",
    "![Black_Box](images/black_box2.jpg)"
   ]
  },
  {
   "cell_type": "markdown",
   "metadata": {
    "slideshow": {
     "slide_type": "slide"
    }
   },
   "source": [
    "# Protection Against Adversarial Attacks\n",
    "\n",
    "### Binary thresholding \n",
    "One naive thing we could try is to use binary thresholding to completely white out the background"
   ]
  },
  {
   "cell_type": "code",
   "execution_count": 27,
   "metadata": {
    "slideshow": {
     "slide_type": "-"
    }
   },
   "outputs": [
    {
     "name": "stdout",
     "output_type": "stream",
     "text": [
      "With binary thresholding: \n"
     ]
    },
    {
     "data": {
      "image/png": "[encoded data removed]",
      "text/plain": [
       "<matplotlib.figure.Figure at 0x7f1eb8954550>"
      ]
     },
     "metadata": {},
     "output_type": "display_data"
    },
    {
     "name": "stdout",
     "output_type": "stream",
     "text": [
      "Prediction : 0\n"
     ]
    }
   ],
   "source": [
    "new_image = (adversial_images[0]['adversial_image'] > .5).astype(float)\n",
    "print(\"With binary thresholding: \")\n",
    "plt.imshow(new_image.reshape(28,28), cmap=\"gray_r\")\n",
    "plt.show()\n",
    "new_pred = model.predict(new_image.reshape(1,784)).ravel()\n",
    "print('Prediction : {}'.format(np.argmax(new_pred)))"
   ]
  }
 ],
 "metadata": {
  "celltoolbar": "Slideshow",
  "kernelspec": {
   "display_name": "Python 3",
   "language": "python",
   "name": "python3"
  },
  "language_info": {
   "codemirror_mode": {
    "name": "ipython",
    "version": 3
   },
   "file_extension": ".py",
   "mimetype": "text/x-python",
   "name": "python",
   "nbconvert_exporter": "python",
   "pygments_lexer": "ipython3",
   "version": "3.6.6"
  }
 },
 "nbformat": 4,
 "nbformat_minor": 2
}
