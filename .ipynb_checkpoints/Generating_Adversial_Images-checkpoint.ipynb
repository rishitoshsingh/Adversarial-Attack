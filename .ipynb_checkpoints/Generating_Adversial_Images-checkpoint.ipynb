{
 "cells": [
  {
   "cell_type": "code",
   "execution_count": 1,
   "metadata": {},
   "outputs": [],
   "source": [
    "from NeuralNetwork2 import ANN2\n",
    "import numpy as np\n",
    "from matplotlib import pyplot as plt\n",
    "import pandas as pd\n",
    "import joblib"
   ]
  },
  {
   "cell_type": "code",
   "execution_count": 2,
   "metadata": {},
   "outputs": [],
   "source": [
    "train_data = pd.read_csv('mnist_train.csv',header=None)\n",
    "test_data = pd.read_csv('mnist_test.csv',header=None)\n",
    "train_data = train_data.sample(n=600,random_state=1)\n",
    "test_data = test_data.sample(n=100,random_state=1)"
   ]
  },
  {
   "cell_type": "code",
   "execution_count": 3,
   "metadata": {},
   "outputs": [],
   "source": [
    "X_train = train_data.iloc[:,1:].values / 255\n",
    "y_train = train_data.iloc[:,0].values.reshape(X_train.shape[0],1)\n",
    "X_test = test_data.iloc[:,1:].values / 255\n",
    "y_test = test_data.iloc[:,0].values.reshape(X_test.shape[0],1)"
   ]
  },
  {
   "cell_type": "code",
   "execution_count": 4,
   "metadata": {},
   "outputs": [],
   "source": [
    "lr = np.arange(10)\n",
    "one_hot = []\n",
    "for label in y_train.ravel():\n",
    "    one_hot.append((lr==label).astype(np.int).tolist())\n",
    "y_train = one_hot\n",
    "one_hot = []\n",
    "for label in y_test.ravel():\n",
    "    one_hot.append((lr==label).astype(np.int).tolist())\n",
    "y_test = one_hot"
   ]
  },
  {
   "cell_type": "code",
   "execution_count": 5,
   "metadata": {},
   "outputs": [],
   "source": [
    "model = joblib.load('Trained1Network.model')"
   ]
  },
  {
   "cell_type": "code",
   "execution_count": 6,
   "metadata": {},
   "outputs": [
    {
     "name": "stdout",
     "output_type": "stream",
     "text": [
      "Target 0\n",
      "Target [1, 0, 0, 0, 0, 0, 0, 0, 0, 0]\n"
     ]
    },
    {
     "data": {
      "image/png": "[encoded data removed]",
      "text/plain": [
       "<Figure size 432x288 with 1 Axes>"
      ]
     },
     "metadata": {
      "needs_background": "light"
     },
     "output_type": "display_data"
    }
   ],
   "source": [
    "sample = 80\n",
    "y_pred = model.predict(X_test[sample].reshape(1,784)).ravel()\n",
    "print(\"Target {}\".format(np.argmax(y_pred)))\n",
    "print(\"Target {}\".format(y_test[sample]))\n",
    "plt.imshow(X_test[sample].reshape(28,28),cmap='gray')\n",
    "plt.show()"
   ]
  },
  {
   "cell_type": "code",
   "execution_count": 7,
   "metadata": {},
   "outputs": [],
   "source": [
    "X_target = X_test[sample].ravel()\n",
    "y_goal = y_test[sample+1]"
   ]
  },
  {
   "cell_type": "code",
   "execution_count": 28,
   "metadata": {},
   "outputs": [
    {
     "data": {
      "image/png": "[encoded data removed]",
      "text/plain": [
       "<Figure size 432x288 with 1 Axes>"
      ]
     },
     "metadata": {
      "needs_background": "light"
     },
     "output_type": "display_data"
    },
    {
     "name": "stdout",
     "output_type": "stream",
     "text": [
      "Predicted : 0\n",
      "Adversial Goal : 4\n",
      "Predicted : [2.34037258e-01 1.07204375e-07 4.77749336e-02 4.80626876e-05\n",
      " 3.68782381e-07 7.19419510e-04 3.72595656e-06 6.57809408e-04\n",
      " 1.20919728e-02 7.10211731e-05]\n",
      "Adversial Goal : [0, 0, 0, 0, 1, 0, 0, 0, 0, 0]\n"
     ]
    }
   ],
   "source": [
    "plt.imshow(X_target.reshape(28,28),cmap='gray')\n",
    "plt.show()\n",
    "print('Predicted : {}'.format(np.argmax(y_pred)))\n",
    "print('Adversial Goal : {}'.format(np.argmax(y_goal)))\n",
    "print('Predicted : {}'.format(y_pred))\n",
    "print('Adversial Goal : {}'.format(y_goal))"
   ]
  },
  {
   "cell_type": "code",
   "execution_count": 24,
   "metadata": {
    "scrolled": true
   },
   "outputs": [
    {
     "name": "stdout",
     "output_type": "stream",
     "text": [
      "Epoch ---  0  MSE :  [100.22516933]\n",
      "Epoch ---  100  MSE :  [46.26504581]\n",
      "Epoch ---  200  MSE :  [22.32854757]\n",
      "Epoch ---  300  MSE :  [11.55574356]\n",
      "Epoch ---  400  MSE :  [6.70578251]\n",
      "Epoch ---  500  MSE :  [4.51523415]\n",
      "Epoch ---  600  MSE :  [3.51557489]\n",
      "Epoch ---  700  MSE :  [3.04994653]\n",
      "Epoch ---  800  MSE :  [2.8285458]\n",
      "Epoch ---  900  MSE :  [2.72295657]\n",
      "Epoch ---  1000  MSE :  [2.67309476]\n",
      "Epoch ---  1100  MSE :  [2.64976147]\n",
      "Epoch ---  1200  MSE :  [2.63888317]\n",
      "Epoch ---  1300  MSE :  [2.63380088]\n",
      "Epoch ---  1400  MSE :  [2.63140493]\n",
      "Epoch ---  1500  MSE :  [2.63025395]\n",
      "Epoch ---  1600  MSE :  [2.62968225]\n",
      "Epoch ---  1700  MSE :  [2.62938262]\n",
      "Epoch ---  1800  MSE :  [2.62921303]\n",
      "Epoch ---  1900  MSE :  [2.62910749]\n",
      "Epoch ---  2000  MSE :  [2.62903506]\n",
      "Epoch ---  2100  MSE :  [2.628981]\n",
      "Epoch ---  2200  MSE :  [2.62893806]\n",
      "Epoch ---  2300  MSE :  [2.62890254]\n",
      "Epoch ---  2400  MSE :  [2.62887244]\n",
      "Epoch ---  2500  MSE :  [2.62884654]\n",
      "Epoch ---  2600  MSE :  [2.62882406]\n",
      "Epoch ---  2700  MSE :  [2.62880447]\n",
      "Epoch ---  2800  MSE :  [2.62878732]\n",
      "Epoch ---  2900  MSE :  [2.62877229]\n",
      "Epoch ---  3000  MSE :  [2.62875909]\n",
      "Epoch ---  3100  MSE :  [2.6287475]\n",
      "Epoch ---  3200  MSE :  [2.6287373]\n",
      "Epoch ---  3300  MSE :  [2.62872832]\n",
      "Epoch ---  3400  MSE :  [2.62872042]\n",
      "Epoch ---  3500  MSE :  [2.62871346]\n",
      "Epoch ---  3600  MSE :  [2.62870733]\n",
      "Epoch ---  3700  MSE :  [2.62870192]\n",
      "Epoch ---  3800  MSE :  [2.62869715]\n",
      "Epoch ---  3900  MSE :  [2.62869295]\n",
      "Epoch ---  4000  MSE :  [2.62868924]\n",
      "Epoch ---  4100  MSE :  [2.62868597]\n",
      "Epoch ---  4200  MSE :  [2.62868308]\n",
      "Epoch ---  4300  MSE :  [2.62868053]\n",
      "Epoch ---  4400  MSE :  [2.62867829]\n",
      "Epoch ---  4500  MSE :  [2.6286763]\n",
      "Epoch ---  4600  MSE :  [2.62867455]\n",
      "Epoch ---  4700  MSE :  [2.628673]\n",
      "Epoch ---  4800  MSE :  [2.62867163]\n",
      "Epoch ---  4900  MSE :  [2.62867042]\n",
      "Epoch ---  5000  MSE :  [2.62866936]\n",
      "Epoch ---  5100  MSE :  [2.62866842]\n",
      "Epoch ---  5200  MSE :  [2.62866759]\n",
      "Epoch ---  5300  MSE :  [2.62866685]\n",
      "Epoch ---  5400  MSE :  [2.6286662]\n",
      "Epoch ---  5500  MSE :  [2.62866563]\n",
      "Epoch ---  5600  MSE :  [2.62866512]\n",
      "Epoch ---  5700  MSE :  [2.62866467]\n",
      "Epoch ---  5800  MSE :  [2.62866428]\n",
      "Epoch ---  5900  MSE :  [2.62866393]\n",
      "Epoch ---  6000  MSE :  [2.62866362]\n",
      "Epoch ---  6100  MSE :  [2.62866335]\n",
      "Epoch ---  6200  MSE :  [2.62866311]\n",
      "Epoch ---  6300  MSE :  [2.6286629]\n",
      "Epoch ---  6400  MSE :  [2.62866271]\n",
      "Epoch ---  6500  MSE :  [2.62866254]\n",
      "Epoch ---  6600  MSE :  [2.6286624]\n",
      "Epoch ---  6700  MSE :  [2.62866227]\n",
      "Epoch ---  6800  MSE :  [2.62866215]\n",
      "Epoch ---  6900  MSE :  [2.62866205]\n",
      "Epoch ---  7000  MSE :  [2.62866196]\n",
      "Epoch ---  7100  MSE :  [2.62866188]\n",
      "Epoch ---  7200  MSE :  [2.62866181]\n",
      "Epoch ---  7300  MSE :  [2.62866175]\n",
      "Epoch ---  7400  MSE :  [2.6286617]\n",
      "Epoch ---  7500  MSE :  [2.62866165]\n",
      "Epoch ---  7600  MSE :  [2.6286616]\n",
      "Epoch ---  7700  MSE :  [2.62866157]\n",
      "Epoch ---  7800  MSE :  [2.62866153]\n",
      "Epoch ---  7900  MSE :  [2.6286615]\n",
      "Epoch ---  8000  MSE :  [2.62866148]\n",
      "Epoch ---  8100  MSE :  [2.62866146]\n",
      "Epoch ---  8200  MSE :  [2.62866144]\n",
      "Epoch ---  8300  MSE :  [2.62866142]\n",
      "Epoch ---  8400  MSE :  [2.6286614]\n",
      "Epoch ---  8500  MSE :  [2.62866139]\n",
      "Epoch ---  8600  MSE :  [2.62866138]\n",
      "Epoch ---  8700  MSE :  [2.62866136]\n",
      "Epoch ---  8800  MSE :  [2.62866135]\n",
      "Epoch ---  8900  MSE :  [2.62866135]\n",
      "Epoch ---  9000  MSE :  [2.62866134]\n",
      "Epoch ---  9100  MSE :  [2.62866133]\n",
      "Epoch ---  9200  MSE :  [2.62866133]\n",
      "Epoch ---  9300  MSE :  [2.62866132]\n",
      "Epoch ---  9400  MSE :  [2.62866132]\n",
      "Epoch ---  9500  MSE :  [2.62866131]\n",
      "Epoch ---  9600  MSE :  [2.62866131]\n",
      "Epoch ---  9700  MSE :  [2.62866131]\n",
      "Epoch ---  9800  MSE :  [2.6286613]\n",
      "Epoch ---  9900  MSE :  [2.6286613]\n"
     ]
    }
   ],
   "source": [
    "adversial_image = model.get_adversial_image(X_target=X_target,\n",
    "                                            y_goal=y_goal,\n",
    "                                            seed=2,\n",
    "                                            learning_rate=0.01,\n",
    "                                            _lambda=0.4,\n",
    "                                            epochs=10000,\n",
    "                                            print_results=True)"
   ]
  },
  {
   "cell_type": "code",
   "execution_count": 25,
   "metadata": {},
   "outputs": [
    {
     "name": "stdout",
     "output_type": "stream",
     "text": [
      "Last Epoch Error :  [2.6286613]\n"
     ]
    }
   ],
   "source": [
    "print('Last Epoch Error : ', model.adversial_loss[-1])"
   ]
  },
  {
   "cell_type": "code",
   "execution_count": 26,
   "metadata": {},
   "outputs": [
    {
     "data": {
      "image/png": "[encoded data removed]",
      "text/plain": [
       "<Figure size 432x288 with 1 Axes>"
      ]
     },
     "metadata": {
      "needs_background": "light"
     },
     "output_type": "display_data"
    }
   ],
   "source": [
    "plt.imshow(adversial_image.reshape(28,28),cmap='gray')\n",
    "plt.show()"
   ]
  },
  {
   "cell_type": "code",
   "execution_count": 29,
   "metadata": {},
   "outputs": [
    {
     "name": "stdout",
     "output_type": "stream",
     "text": [
      "Target 0\n",
      "Target [1, 0, 0, 0, 0, 0, 0, 0, 0, 0]\n"
     ]
    },
    {
     "data": {
      "image/png": "[encoded data removed]",
      "text/plain": [
       "<Figure size 432x288 with 1 Axes>"
      ]
     },
     "metadata": {
      "needs_background": "light"
     },
     "output_type": "display_data"
    }
   ],
   "source": [
    "y_pred_adversial = model.predict(adversial_image.reshape(1,784)).ravel()\n",
    "print(\"Target {}\".format(np.argmax(y_pred_adversial)))\n",
    "print(\"Target {}\".format(y_test[sample]))\n",
    "plt.imshow(adversial_image.reshape(28,28),cmap='gray')\n",
    "plt.show()"
   ]
  },
  {
   "cell_type": "code",
   "execution_count": 30,
   "metadata": {},
   "outputs": [
    {
     "data": {
      "text/plain": [
       "array([0., 0., 0., 0., 0., 0., 0., 0., 0., 0.])"
      ]
     },
     "execution_count": 30,
     "metadata": {},
     "output_type": "execute_result"
    }
   ],
   "source": [
    "y_pred_adversial - y_pred"
   ]
  }
 ],
 "metadata": {
  "kernelspec": {
   "display_name": "Python 3",
   "language": "python",
   "name": "python3"
  },
  "language_info": {
   "codemirror_mode": {
    "name": "ipython",
    "version": 3
   },
   "file_extension": ".py",
   "mimetype": "text/x-python",
   "name": "python",
   "nbconvert_exporter": "python",
   "pygments_lexer": "ipython3",
   "version": "3.7.4"
  }
 },
 "nbformat": 4,
 "nbformat_minor": 2
}
